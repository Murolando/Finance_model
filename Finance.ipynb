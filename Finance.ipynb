{
  "nbformat": 4,
  "nbformat_minor": 0,
  "metadata": {
    "colab": {
      "provenance": [],
      "include_colab_link": true
    },
    "kernelspec": {
      "name": "python3",
      "display_name": "Python 3"
    },
    "language_info": {
      "name": "python"
    }
  },
  "cells": [
    {
      "cell_type": "markdown",
      "metadata": {
        "id": "view-in-github",
        "colab_type": "text"
      },
      "source": [
        "<a href=\"https://colab.research.google.com/github/Murolando/finance_model/blob/main/Finance.ipynb\" target=\"_parent\"><img src=\"https://colab.research.google.com/assets/colab-badge.svg\" alt=\"Open In Colab\"/></a>"
      ]
    },
    {
      "cell_type": "code",
      "execution_count": null,
      "metadata": {
        "id": "BhXfEkSfC64h"
      },
      "outputs": [],
      "source": [
        "import pandas as pd\n",
        "import numpy as np\n",
        "import seaborn as sns\n",
        "import matplotlib.pyplot as plt\n",
        "\n",
        "from sklearn.ensemble import  RandomForestClassifier, GradientBoostingClassifier\n",
        "from sklearn.model_selection import GridSearchCV\n",
        "from sklearn.model_selection import cross_val_score\n",
        "from sklearn.model_selection import train_test_split\n",
        "from sklearn.metrics import confusion_matrix, recall_score, precision_score, f1_score\n",
        "\n",
        "\n"
      ]
    },
    {
      "cell_type": "code",
      "source": [
        "!pip install catboost\n",
        "!pip install lightgbm\n",
        "!pip install xgboost"
      ],
      "metadata": {
        "colab": {
          "base_uri": "https://localhost:8080/"
        },
        "id": "XMZjzfq-JCtJ",
        "outputId": "3a7edb5a-04cb-4825-bd00-71fb96f09193"
      },
      "execution_count": null,
      "outputs": [
        {
          "output_type": "stream",
          "name": "stdout",
          "text": [
            "Looking in indexes: https://pypi.org/simple, https://us-python.pkg.dev/colab-wheels/public/simple/\n",
            "Requirement already satisfied: catboost in /usr/local/lib/python3.7/dist-packages (1.1)\n",
            "Requirement already satisfied: scipy in /usr/local/lib/python3.7/dist-packages (from catboost) (1.7.3)\n",
            "Requirement already satisfied: numpy>=1.16.0 in /usr/local/lib/python3.7/dist-packages (from catboost) (1.21.6)\n",
            "Requirement already satisfied: plotly in /usr/local/lib/python3.7/dist-packages (from catboost) (5.5.0)\n",
            "Requirement already satisfied: graphviz in /usr/local/lib/python3.7/dist-packages (from catboost) (0.10.1)\n",
            "Requirement already satisfied: matplotlib in /usr/local/lib/python3.7/dist-packages (from catboost) (3.2.2)\n",
            "Requirement already satisfied: six in /usr/local/lib/python3.7/dist-packages (from catboost) (1.15.0)\n",
            "Requirement already satisfied: pandas>=0.24.0 in /usr/local/lib/python3.7/dist-packages (from catboost) (1.3.5)\n",
            "Requirement already satisfied: pytz>=2017.3 in /usr/local/lib/python3.7/dist-packages (from pandas>=0.24.0->catboost) (2022.2.1)\n",
            "Requirement already satisfied: python-dateutil>=2.7.3 in /usr/local/lib/python3.7/dist-packages (from pandas>=0.24.0->catboost) (2.8.2)\n",
            "Requirement already satisfied: pyparsing!=2.0.4,!=2.1.2,!=2.1.6,>=2.0.1 in /usr/local/lib/python3.7/dist-packages (from matplotlib->catboost) (3.0.9)\n",
            "Requirement already satisfied: cycler>=0.10 in /usr/local/lib/python3.7/dist-packages (from matplotlib->catboost) (0.11.0)\n",
            "Requirement already satisfied: kiwisolver>=1.0.1 in /usr/local/lib/python3.7/dist-packages (from matplotlib->catboost) (1.4.4)\n",
            "Requirement already satisfied: typing-extensions in /usr/local/lib/python3.7/dist-packages (from kiwisolver>=1.0.1->matplotlib->catboost) (4.1.1)\n",
            "Requirement already satisfied: tenacity>=6.2.0 in /usr/local/lib/python3.7/dist-packages (from plotly->catboost) (8.0.1)\n",
            "Looking in indexes: https://pypi.org/simple, https://us-python.pkg.dev/colab-wheels/public/simple/\n",
            "Requirement already satisfied: lightgbm in /usr/local/lib/python3.7/dist-packages (2.2.3)\n",
            "Requirement already satisfied: numpy in /usr/local/lib/python3.7/dist-packages (from lightgbm) (1.21.6)\n",
            "Requirement already satisfied: scipy in /usr/local/lib/python3.7/dist-packages (from lightgbm) (1.7.3)\n",
            "Requirement already satisfied: scikit-learn in /usr/local/lib/python3.7/dist-packages (from lightgbm) (1.0.2)\n",
            "Requirement already satisfied: threadpoolctl>=2.0.0 in /usr/local/lib/python3.7/dist-packages (from scikit-learn->lightgbm) (3.1.0)\n",
            "Requirement already satisfied: joblib>=0.11 in /usr/local/lib/python3.7/dist-packages (from scikit-learn->lightgbm) (1.1.0)\n",
            "Looking in indexes: https://pypi.org/simple, https://us-python.pkg.dev/colab-wheels/public/simple/\n",
            "Requirement already satisfied: xgboost in /usr/local/lib/python3.7/dist-packages (0.90)\n",
            "Requirement already satisfied: scipy in /usr/local/lib/python3.7/dist-packages (from xgboost) (1.7.3)\n",
            "Requirement already satisfied: numpy in /usr/local/lib/python3.7/dist-packages (from xgboost) (1.21.6)\n"
          ]
        }
      ]
    },
    {
      "cell_type": "code",
      "source": [
        "import xgboost as xgb\n",
        "from catboost import CatBoostClassifier\n",
        "import lightgbm as lgb"
      ],
      "metadata": {
        "id": "rWkDumw9JEL6"
      },
      "execution_count": null,
      "outputs": []
    },
    {
      "cell_type": "markdown",
      "source": [
        "# Загрузка Данных"
      ],
      "metadata": {
        "id": "FhEr8Tv_jLjy"
      }
    },
    {
      "cell_type": "code",
      "source": [
        "data = pd.read_csv('/content/drive/MyDrive/Financial-Data.csv')"
      ],
      "metadata": {
        "id": "KVx8yP8yiYgb"
      },
      "execution_count": null,
      "outputs": []
    },
    {
      "cell_type": "code",
      "source": [
        "data.head(3)"
      ],
      "metadata": {
        "colab": {
          "base_uri": "https://localhost:8080/",
          "height": 237
        },
        "id": "XCtHv_2CkbP2",
        "outputId": "73c6a4b3-f89b-4cc2-eeb9-180ae9c5fb20"
      },
      "execution_count": null,
      "outputs": [
        {
          "output_type": "execute_result",
          "data": {
            "text/plain": [
              "   Entry_id  age pay_schedule  home_owner  income  months_employed  \\\n",
              "0   7629673   40    bi-weekly           1    3135                0   \n",
              "1   3560428   61       weekly           0    3180                0   \n",
              "2   6934997   23       weekly           0    1540                6   \n",
              "\n",
              "   years_employed  current_address_year  personal_account_m  \\\n",
              "0               3                     3                   6   \n",
              "1               6                     3                   2   \n",
              "2               0                     0                   7   \n",
              "\n",
              "   personal_account_y  ...  amount_requested  risk_score  risk_score_2  \\\n",
              "0                   2  ...               550       36200      0.737398   \n",
              "1                   7  ...               600       30150      0.738510   \n",
              "2                   1  ...               450       34550      0.642993   \n",
              "\n",
              "   risk_score_3  risk_score_4  risk_score_5  ext_quality_score  \\\n",
              "0      0.903517      0.487712      0.515977           0.580918   \n",
              "1      0.881027      0.713423      0.826402           0.730720   \n",
              "2      0.766554      0.595018      0.762284           0.531712   \n",
              "\n",
              "   ext_quality_score_2  inquiries_last_month  e_signed  \n",
              "0             0.380918                    10         1  \n",
              "1             0.630720                     9         0  \n",
              "2             0.531712                     7         0  \n",
              "\n",
              "[3 rows x 21 columns]"
            ],
            "text/html": [
              "\n",
              "  <div id=\"df-2f102980-7466-4e09-8bfa-eb531e49ce57\">\n",
              "    <div class=\"colab-df-container\">\n",
              "      <div>\n",
              "<style scoped>\n",
              "    .dataframe tbody tr th:only-of-type {\n",
              "        vertical-align: middle;\n",
              "    }\n",
              "\n",
              "    .dataframe tbody tr th {\n",
              "        vertical-align: top;\n",
              "    }\n",
              "\n",
              "    .dataframe thead th {\n",
              "        text-align: right;\n",
              "    }\n",
              "</style>\n",
              "<table border=\"1\" class=\"dataframe\">\n",
              "  <thead>\n",
              "    <tr style=\"text-align: right;\">\n",
              "      <th></th>\n",
              "      <th>Entry_id</th>\n",
              "      <th>age</th>\n",
              "      <th>pay_schedule</th>\n",
              "      <th>home_owner</th>\n",
              "      <th>income</th>\n",
              "      <th>months_employed</th>\n",
              "      <th>years_employed</th>\n",
              "      <th>current_address_year</th>\n",
              "      <th>personal_account_m</th>\n",
              "      <th>personal_account_y</th>\n",
              "      <th>...</th>\n",
              "      <th>amount_requested</th>\n",
              "      <th>risk_score</th>\n",
              "      <th>risk_score_2</th>\n",
              "      <th>risk_score_3</th>\n",
              "      <th>risk_score_4</th>\n",
              "      <th>risk_score_5</th>\n",
              "      <th>ext_quality_score</th>\n",
              "      <th>ext_quality_score_2</th>\n",
              "      <th>inquiries_last_month</th>\n",
              "      <th>e_signed</th>\n",
              "    </tr>\n",
              "  </thead>\n",
              "  <tbody>\n",
              "    <tr>\n",
              "      <th>0</th>\n",
              "      <td>7629673</td>\n",
              "      <td>40</td>\n",
              "      <td>bi-weekly</td>\n",
              "      <td>1</td>\n",
              "      <td>3135</td>\n",
              "      <td>0</td>\n",
              "      <td>3</td>\n",
              "      <td>3</td>\n",
              "      <td>6</td>\n",
              "      <td>2</td>\n",
              "      <td>...</td>\n",
              "      <td>550</td>\n",
              "      <td>36200</td>\n",
              "      <td>0.737398</td>\n",
              "      <td>0.903517</td>\n",
              "      <td>0.487712</td>\n",
              "      <td>0.515977</td>\n",
              "      <td>0.580918</td>\n",
              "      <td>0.380918</td>\n",
              "      <td>10</td>\n",
              "      <td>1</td>\n",
              "    </tr>\n",
              "    <tr>\n",
              "      <th>1</th>\n",
              "      <td>3560428</td>\n",
              "      <td>61</td>\n",
              "      <td>weekly</td>\n",
              "      <td>0</td>\n",
              "      <td>3180</td>\n",
              "      <td>0</td>\n",
              "      <td>6</td>\n",
              "      <td>3</td>\n",
              "      <td>2</td>\n",
              "      <td>7</td>\n",
              "      <td>...</td>\n",
              "      <td>600</td>\n",
              "      <td>30150</td>\n",
              "      <td>0.738510</td>\n",
              "      <td>0.881027</td>\n",
              "      <td>0.713423</td>\n",
              "      <td>0.826402</td>\n",
              "      <td>0.730720</td>\n",
              "      <td>0.630720</td>\n",
              "      <td>9</td>\n",
              "      <td>0</td>\n",
              "    </tr>\n",
              "    <tr>\n",
              "      <th>2</th>\n",
              "      <td>6934997</td>\n",
              "      <td>23</td>\n",
              "      <td>weekly</td>\n",
              "      <td>0</td>\n",
              "      <td>1540</td>\n",
              "      <td>6</td>\n",
              "      <td>0</td>\n",
              "      <td>0</td>\n",
              "      <td>7</td>\n",
              "      <td>1</td>\n",
              "      <td>...</td>\n",
              "      <td>450</td>\n",
              "      <td>34550</td>\n",
              "      <td>0.642993</td>\n",
              "      <td>0.766554</td>\n",
              "      <td>0.595018</td>\n",
              "      <td>0.762284</td>\n",
              "      <td>0.531712</td>\n",
              "      <td>0.531712</td>\n",
              "      <td>7</td>\n",
              "      <td>0</td>\n",
              "    </tr>\n",
              "  </tbody>\n",
              "</table>\n",
              "<p>3 rows × 21 columns</p>\n",
              "</div>\n",
              "      <button class=\"colab-df-convert\" onclick=\"convertToInteractive('df-2f102980-7466-4e09-8bfa-eb531e49ce57')\"\n",
              "              title=\"Convert this dataframe to an interactive table.\"\n",
              "              style=\"display:none;\">\n",
              "        \n",
              "  <svg xmlns=\"http://www.w3.org/2000/svg\" height=\"24px\"viewBox=\"0 0 24 24\"\n",
              "       width=\"24px\">\n",
              "    <path d=\"M0 0h24v24H0V0z\" fill=\"none\"/>\n",
              "    <path d=\"M18.56 5.44l.94 2.06.94-2.06 2.06-.94-2.06-.94-.94-2.06-.94 2.06-2.06.94zm-11 1L8.5 8.5l.94-2.06 2.06-.94-2.06-.94L8.5 2.5l-.94 2.06-2.06.94zm10 10l.94 2.06.94-2.06 2.06-.94-2.06-.94-.94-2.06-.94 2.06-2.06.94z\"/><path d=\"M17.41 7.96l-1.37-1.37c-.4-.4-.92-.59-1.43-.59-.52 0-1.04.2-1.43.59L10.3 9.45l-7.72 7.72c-.78.78-.78 2.05 0 2.83L4 21.41c.39.39.9.59 1.41.59.51 0 1.02-.2 1.41-.59l7.78-7.78 2.81-2.81c.8-.78.8-2.07 0-2.86zM5.41 20L4 18.59l7.72-7.72 1.47 1.35L5.41 20z\"/>\n",
              "  </svg>\n",
              "      </button>\n",
              "      \n",
              "  <style>\n",
              "    .colab-df-container {\n",
              "      display:flex;\n",
              "      flex-wrap:wrap;\n",
              "      gap: 12px;\n",
              "    }\n",
              "\n",
              "    .colab-df-convert {\n",
              "      background-color: #E8F0FE;\n",
              "      border: none;\n",
              "      border-radius: 50%;\n",
              "      cursor: pointer;\n",
              "      display: none;\n",
              "      fill: #1967D2;\n",
              "      height: 32px;\n",
              "      padding: 0 0 0 0;\n",
              "      width: 32px;\n",
              "    }\n",
              "\n",
              "    .colab-df-convert:hover {\n",
              "      background-color: #E2EBFA;\n",
              "      box-shadow: 0px 1px 2px rgba(60, 64, 67, 0.3), 0px 1px 3px 1px rgba(60, 64, 67, 0.15);\n",
              "      fill: #174EA6;\n",
              "    }\n",
              "\n",
              "    [theme=dark] .colab-df-convert {\n",
              "      background-color: #3B4455;\n",
              "      fill: #D2E3FC;\n",
              "    }\n",
              "\n",
              "    [theme=dark] .colab-df-convert:hover {\n",
              "      background-color: #434B5C;\n",
              "      box-shadow: 0px 1px 3px 1px rgba(0, 0, 0, 0.15);\n",
              "      filter: drop-shadow(0px 1px 2px rgba(0, 0, 0, 0.3));\n",
              "      fill: #FFFFFF;\n",
              "    }\n",
              "  </style>\n",
              "\n",
              "      <script>\n",
              "        const buttonEl =\n",
              "          document.querySelector('#df-2f102980-7466-4e09-8bfa-eb531e49ce57 button.colab-df-convert');\n",
              "        buttonEl.style.display =\n",
              "          google.colab.kernel.accessAllowed ? 'block' : 'none';\n",
              "\n",
              "        async function convertToInteractive(key) {\n",
              "          const element = document.querySelector('#df-2f102980-7466-4e09-8bfa-eb531e49ce57');\n",
              "          const dataTable =\n",
              "            await google.colab.kernel.invokeFunction('convertToInteractive',\n",
              "                                                     [key], {});\n",
              "          if (!dataTable) return;\n",
              "\n",
              "          const docLinkHtml = 'Like what you see? Visit the ' +\n",
              "            '<a target=\"_blank\" href=https://colab.research.google.com/notebooks/data_table.ipynb>data table notebook</a>'\n",
              "            + ' to learn more about interactive tables.';\n",
              "          element.innerHTML = '';\n",
              "          dataTable['output_type'] = 'display_data';\n",
              "          await google.colab.output.renderOutput(dataTable, element);\n",
              "          const docLink = document.createElement('div');\n",
              "          docLink.innerHTML = docLinkHtml;\n",
              "          element.appendChild(docLink);\n",
              "        }\n",
              "      </script>\n",
              "    </div>\n",
              "  </div>\n",
              "  "
            ]
          },
          "metadata": {},
          "execution_count": 166
        }
      ]
    },
    {
      "cell_type": "code",
      "source": [
        "len(pd.unique(data['Entry_id']))"
      ],
      "metadata": {
        "colab": {
          "base_uri": "https://localhost:8080/"
        },
        "id": "768V4AKEki2o",
        "outputId": "226f87da-7e7f-42bd-c5b1-fcd992acc614"
      },
      "execution_count": null,
      "outputs": [
        {
          "output_type": "execute_result",
          "data": {
            "text/plain": [
              "17888"
            ]
          },
          "metadata": {},
          "execution_count": 162
        }
      ]
    },
    {
      "cell_type": "markdown",
      "source": [
        "## Описание набора данных"
      ],
      "metadata": {
        "id": "OkbR3ek_oloO"
      }
    },
    {
      "cell_type": "markdown",
      "source": [
        "Электронное подписание кредита\n",
        "Клиенту предлагают кредит, нужно определить подписался ли он на него.\n",
        "https://www.kaggle.com/datasets/yashpaloswal/esigning-of-loanbased-on-financial-history\n",
        "\n",
        "1. Entry_id: Индентефикатор заявителя\n",
        "2. age: Возраст заявитель\n",
        "3. pay_schedule: Как часто заявителям платят\n",
        "4. home_owner: Владеет ли домом пользователь \n",
        "5. income: Доход заявителя\n",
        "6. months_employed: Сколько месяцев заявитель работает(каждый год обнуляется)\n",
        "7. years_employed: Сколько лет заявитель работает\n",
        "8. current_address_year: Сколько лет человек проживал по текущему адресу\n",
        "9. personal_account_m: Сколько месяцев у этого человека был личный кабинет (каждый год обнуляется)\n",
        "10. personal_account_y: Сколько лет у этого человека был личный кабинет\n",
        "11. has_debt: Есть ли у человека долг\n",
        "12. amount_requested: На какую сумму заявка\n",
        "13.\trisk_score: скрытая метрика риска\n",
        "14.\trisk_score_2: скрытая метрика риска\n",
        "15.\trisk_score_3: скрытая метрика риска\n",
        "16.\trisk_score_4: скрытая метрика риска\n",
        "17.\trisk_score_5: скрытая метрика риска\n",
        "18.\text_quality_score: скрытая внешняя оценка качества\n",
        "19.\text_quality_score_2: скрытая внешняя оценка качества\n",
        "20.\tinquiries_last_month: \n",
        "Сколько кредитных запросов было у пользователя за последний месяц\n",
        "21.\te_signed: целевой столбец, завершен ли процесс электронной подписи\n"
      ],
      "metadata": {
        "id": "08D6GhtGosFv"
      }
    },
    {
      "cell_type": "markdown",
      "source": [
        "# EDA (разведочный анализ)"
      ],
      "metadata": {
        "id": "hzef-MhkppE1"
      }
    },
    {
      "cell_type": "code",
      "source": [
        "data.info()"
      ],
      "metadata": {
        "id": "rFljzPNLpors",
        "colab": {
          "base_uri": "https://localhost:8080/"
        },
        "outputId": "104b38fa-3655-4e15-876d-5fb4615d2b1f"
      },
      "execution_count": null,
      "outputs": [
        {
          "output_type": "stream",
          "name": "stdout",
          "text": [
            "<class 'pandas.core.frame.DataFrame'>\n",
            "RangeIndex: 17908 entries, 0 to 17907\n",
            "Data columns (total 21 columns):\n",
            " #   Column                Non-Null Count  Dtype  \n",
            "---  ------                --------------  -----  \n",
            " 0   Entry_id              17908 non-null  int64  \n",
            " 1   age                   17908 non-null  int64  \n",
            " 2   pay_schedule          17908 non-null  object \n",
            " 3   home_owner            17908 non-null  int64  \n",
            " 4   income                17908 non-null  int64  \n",
            " 5   months_employed       17908 non-null  int64  \n",
            " 6   years_employed        17908 non-null  int64  \n",
            " 7   current_address_year  17908 non-null  int64  \n",
            " 8   personal_account_m    17908 non-null  int64  \n",
            " 9   personal_account_y    17908 non-null  int64  \n",
            " 10  has_debt              17908 non-null  int64  \n",
            " 11  amount_requested      17908 non-null  int64  \n",
            " 12  risk_score            17908 non-null  int64  \n",
            " 13  risk_score_2          17908 non-null  float64\n",
            " 14  risk_score_3          17908 non-null  float64\n",
            " 15  risk_score_4          17908 non-null  float64\n",
            " 16  risk_score_5          17908 non-null  float64\n",
            " 17  ext_quality_score     17908 non-null  float64\n",
            " 18  ext_quality_score_2   17908 non-null  float64\n",
            " 19  inquiries_last_month  17908 non-null  int64  \n",
            " 20  e_signed              17908 non-null  int64  \n",
            "dtypes: float64(6), int64(14), object(1)\n",
            "memory usage: 2.9+ MB\n"
          ]
        }
      ]
    },
    {
      "cell_type": "markdown",
      "source": [
        "Избавимся от уникального id, но сначала проверим по нему уникальность всех строк"
      ],
      "metadata": {
        "id": "yya-PKdH3vaF"
      }
    },
    {
      "cell_type": "code",
      "source": [
        "len(pd.unique(data['Entry_id']))"
      ],
      "metadata": {
        "id": "Xz-5CnZJmg6r",
        "colab": {
          "base_uri": "https://localhost:8080/"
        },
        "outputId": "2a65aec9-ba61-4652-e73d-ca8902fd1fef"
      },
      "execution_count": null,
      "outputs": [
        {
          "output_type": "execute_result",
          "data": {
            "text/plain": [
              "17888"
            ]
          },
          "metadata": {},
          "execution_count": 164
        }
      ]
    },
    {
      "cell_type": "markdown",
      "source": [
        "В датасете есть часть повторяющихся строк, давайте избавимся от них"
      ],
      "metadata": {
        "id": "Kkb4pSPE4CCZ"
      }
    },
    {
      "cell_type": "code",
      "source": [
        "# удаляем все повторяющиеся строки\n",
        "data = data.drop_duplicates(subset = ['Entry_id'])"
      ],
      "metadata": {
        "id": "GEOwTTXW4cKa"
      },
      "execution_count": null,
      "outputs": []
    },
    {
      "cell_type": "code",
      "source": [
        "#удаляем первый столбец\n",
        "data = data.drop(columns= ['Entry_id'], axis=1)"
      ],
      "metadata": {
        "id": "ONiXhq634Hqy"
      },
      "execution_count": null,
      "outputs": []
    },
    {
      "cell_type": "code",
      "source": [
        "data.describe()"
      ],
      "metadata": {
        "colab": {
          "base_uri": "https://localhost:8080/",
          "height": 364
        },
        "id": "77lATCp85P4-",
        "outputId": "c3aaf515-f984-4a4d-8152-2b1270ffa7d0"
      },
      "execution_count": null,
      "outputs": [
        {
          "output_type": "execute_result",
          "data": {
            "text/plain": [
              "                age    home_owner        income  months_employed  \\\n",
              "count  17888.000000  17888.000000  17888.000000     17888.000000   \n",
              "mean      43.016492      0.425257   3657.279517         1.185879   \n",
              "std       11.874947      0.494396   1505.242531         2.401256   \n",
              "min       18.000000      0.000000    905.000000         0.000000   \n",
              "25%       34.000000      0.000000   2580.000000         0.000000   \n",
              "50%       42.000000      0.000000   3260.000000         0.000000   \n",
              "75%       51.000000      1.000000   4670.000000         1.000000   \n",
              "max       96.000000      1.000000   9985.000000        11.000000   \n",
              "\n",
              "       years_employed  current_address_year  personal_account_m  \\\n",
              "count    17888.000000          17888.000000        17888.000000   \n",
              "mean         3.528231              3.585700            3.427941   \n",
              "std          2.260125              2.751628            2.216734   \n",
              "min          0.000000              0.000000            0.000000   \n",
              "25%          2.000000              2.000000            2.000000   \n",
              "50%          3.000000              3.000000            2.000000   \n",
              "75%          5.000000              5.000000            5.000000   \n",
              "max         16.000000             12.000000           11.000000   \n",
              "\n",
              "       personal_account_y      has_debt  amount_requested    risk_score  \\\n",
              "count        17888.000000  17888.000000      17888.000000  17888.000000   \n",
              "mean             3.504025      0.795505        950.337936  61087.444097   \n",
              "std              1.955760      0.403343        698.470381  15397.506539   \n",
              "min              0.000000      0.000000        350.000000   2100.000000   \n",
              "25%              2.000000      1.000000        600.000000  49350.000000   \n",
              "50%              3.000000      1.000000        700.000000  61200.000000   \n",
              "75%              4.000000      1.000000       1100.000000  72750.000000   \n",
              "max             15.000000      1.000000      10200.000000  99750.000000   \n",
              "\n",
              "       risk_score_2  risk_score_3  risk_score_4  risk_score_5  \\\n",
              "count  17888.000000  17888.000000  17888.000000  17888.000000   \n",
              "mean       0.690850      0.878295      0.583168      0.718308   \n",
              "std        0.090486      0.054548      0.125087      0.120696   \n",
              "min        0.023258      0.451371      0.016724      0.153367   \n",
              "25%        0.640979      0.850891      0.500208      0.633895   \n",
              "50%        0.699532      0.881004      0.588231      0.725201   \n",
              "75%        0.752875      0.912608      0.672431      0.806736   \n",
              "max        0.999997      0.999024      0.978932      0.996260   \n",
              "\n",
              "       ext_quality_score  ext_quality_score_2  inquiries_last_month  \\\n",
              "count       17888.000000         17888.000000          17888.000000   \n",
              "mean            0.623095             0.622094              6.456451   \n",
              "std             0.139721             0.139898              3.673181   \n",
              "min             0.010184             0.006622              1.000000   \n",
              "25%             0.521758             0.519769              4.000000   \n",
              "50%             0.625873             0.622991              6.000000   \n",
              "75%             0.729776             0.728940              8.000000   \n",
              "max             0.970249             0.966953             30.000000   \n",
              "\n",
              "           e_signed  \n",
              "count  17888.000000  \n",
              "mean       0.538294  \n",
              "std        0.498545  \n",
              "min        0.000000  \n",
              "25%        0.000000  \n",
              "50%        1.000000  \n",
              "75%        1.000000  \n",
              "max        1.000000  "
            ],
            "text/html": [
              "\n",
              "  <div id=\"df-1f2755e7-4eb6-40f5-8700-b65cdac3e055\">\n",
              "    <div class=\"colab-df-container\">\n",
              "      <div>\n",
              "<style scoped>\n",
              "    .dataframe tbody tr th:only-of-type {\n",
              "        vertical-align: middle;\n",
              "    }\n",
              "\n",
              "    .dataframe tbody tr th {\n",
              "        vertical-align: top;\n",
              "    }\n",
              "\n",
              "    .dataframe thead th {\n",
              "        text-align: right;\n",
              "    }\n",
              "</style>\n",
              "<table border=\"1\" class=\"dataframe\">\n",
              "  <thead>\n",
              "    <tr style=\"text-align: right;\">\n",
              "      <th></th>\n",
              "      <th>age</th>\n",
              "      <th>home_owner</th>\n",
              "      <th>income</th>\n",
              "      <th>months_employed</th>\n",
              "      <th>years_employed</th>\n",
              "      <th>current_address_year</th>\n",
              "      <th>personal_account_m</th>\n",
              "      <th>personal_account_y</th>\n",
              "      <th>has_debt</th>\n",
              "      <th>amount_requested</th>\n",
              "      <th>risk_score</th>\n",
              "      <th>risk_score_2</th>\n",
              "      <th>risk_score_3</th>\n",
              "      <th>risk_score_4</th>\n",
              "      <th>risk_score_5</th>\n",
              "      <th>ext_quality_score</th>\n",
              "      <th>ext_quality_score_2</th>\n",
              "      <th>inquiries_last_month</th>\n",
              "      <th>e_signed</th>\n",
              "    </tr>\n",
              "  </thead>\n",
              "  <tbody>\n",
              "    <tr>\n",
              "      <th>count</th>\n",
              "      <td>17888.000000</td>\n",
              "      <td>17888.000000</td>\n",
              "      <td>17888.000000</td>\n",
              "      <td>17888.000000</td>\n",
              "      <td>17888.000000</td>\n",
              "      <td>17888.000000</td>\n",
              "      <td>17888.000000</td>\n",
              "      <td>17888.000000</td>\n",
              "      <td>17888.000000</td>\n",
              "      <td>17888.000000</td>\n",
              "      <td>17888.000000</td>\n",
              "      <td>17888.000000</td>\n",
              "      <td>17888.000000</td>\n",
              "      <td>17888.000000</td>\n",
              "      <td>17888.000000</td>\n",
              "      <td>17888.000000</td>\n",
              "      <td>17888.000000</td>\n",
              "      <td>17888.000000</td>\n",
              "      <td>17888.000000</td>\n",
              "    </tr>\n",
              "    <tr>\n",
              "      <th>mean</th>\n",
              "      <td>43.016492</td>\n",
              "      <td>0.425257</td>\n",
              "      <td>3657.279517</td>\n",
              "      <td>1.185879</td>\n",
              "      <td>3.528231</td>\n",
              "      <td>3.585700</td>\n",
              "      <td>3.427941</td>\n",
              "      <td>3.504025</td>\n",
              "      <td>0.795505</td>\n",
              "      <td>950.337936</td>\n",
              "      <td>61087.444097</td>\n",
              "      <td>0.690850</td>\n",
              "      <td>0.878295</td>\n",
              "      <td>0.583168</td>\n",
              "      <td>0.718308</td>\n",
              "      <td>0.623095</td>\n",
              "      <td>0.622094</td>\n",
              "      <td>6.456451</td>\n",
              "      <td>0.538294</td>\n",
              "    </tr>\n",
              "    <tr>\n",
              "      <th>std</th>\n",
              "      <td>11.874947</td>\n",
              "      <td>0.494396</td>\n",
              "      <td>1505.242531</td>\n",
              "      <td>2.401256</td>\n",
              "      <td>2.260125</td>\n",
              "      <td>2.751628</td>\n",
              "      <td>2.216734</td>\n",
              "      <td>1.955760</td>\n",
              "      <td>0.403343</td>\n",
              "      <td>698.470381</td>\n",
              "      <td>15397.506539</td>\n",
              "      <td>0.090486</td>\n",
              "      <td>0.054548</td>\n",
              "      <td>0.125087</td>\n",
              "      <td>0.120696</td>\n",
              "      <td>0.139721</td>\n",
              "      <td>0.139898</td>\n",
              "      <td>3.673181</td>\n",
              "      <td>0.498545</td>\n",
              "    </tr>\n",
              "    <tr>\n",
              "      <th>min</th>\n",
              "      <td>18.000000</td>\n",
              "      <td>0.000000</td>\n",
              "      <td>905.000000</td>\n",
              "      <td>0.000000</td>\n",
              "      <td>0.000000</td>\n",
              "      <td>0.000000</td>\n",
              "      <td>0.000000</td>\n",
              "      <td>0.000000</td>\n",
              "      <td>0.000000</td>\n",
              "      <td>350.000000</td>\n",
              "      <td>2100.000000</td>\n",
              "      <td>0.023258</td>\n",
              "      <td>0.451371</td>\n",
              "      <td>0.016724</td>\n",
              "      <td>0.153367</td>\n",
              "      <td>0.010184</td>\n",
              "      <td>0.006622</td>\n",
              "      <td>1.000000</td>\n",
              "      <td>0.000000</td>\n",
              "    </tr>\n",
              "    <tr>\n",
              "      <th>25%</th>\n",
              "      <td>34.000000</td>\n",
              "      <td>0.000000</td>\n",
              "      <td>2580.000000</td>\n",
              "      <td>0.000000</td>\n",
              "      <td>2.000000</td>\n",
              "      <td>2.000000</td>\n",
              "      <td>2.000000</td>\n",
              "      <td>2.000000</td>\n",
              "      <td>1.000000</td>\n",
              "      <td>600.000000</td>\n",
              "      <td>49350.000000</td>\n",
              "      <td>0.640979</td>\n",
              "      <td>0.850891</td>\n",
              "      <td>0.500208</td>\n",
              "      <td>0.633895</td>\n",
              "      <td>0.521758</td>\n",
              "      <td>0.519769</td>\n",
              "      <td>4.000000</td>\n",
              "      <td>0.000000</td>\n",
              "    </tr>\n",
              "    <tr>\n",
              "      <th>50%</th>\n",
              "      <td>42.000000</td>\n",
              "      <td>0.000000</td>\n",
              "      <td>3260.000000</td>\n",
              "      <td>0.000000</td>\n",
              "      <td>3.000000</td>\n",
              "      <td>3.000000</td>\n",
              "      <td>2.000000</td>\n",
              "      <td>3.000000</td>\n",
              "      <td>1.000000</td>\n",
              "      <td>700.000000</td>\n",
              "      <td>61200.000000</td>\n",
              "      <td>0.699532</td>\n",
              "      <td>0.881004</td>\n",
              "      <td>0.588231</td>\n",
              "      <td>0.725201</td>\n",
              "      <td>0.625873</td>\n",
              "      <td>0.622991</td>\n",
              "      <td>6.000000</td>\n",
              "      <td>1.000000</td>\n",
              "    </tr>\n",
              "    <tr>\n",
              "      <th>75%</th>\n",
              "      <td>51.000000</td>\n",
              "      <td>1.000000</td>\n",
              "      <td>4670.000000</td>\n",
              "      <td>1.000000</td>\n",
              "      <td>5.000000</td>\n",
              "      <td>5.000000</td>\n",
              "      <td>5.000000</td>\n",
              "      <td>4.000000</td>\n",
              "      <td>1.000000</td>\n",
              "      <td>1100.000000</td>\n",
              "      <td>72750.000000</td>\n",
              "      <td>0.752875</td>\n",
              "      <td>0.912608</td>\n",
              "      <td>0.672431</td>\n",
              "      <td>0.806736</td>\n",
              "      <td>0.729776</td>\n",
              "      <td>0.728940</td>\n",
              "      <td>8.000000</td>\n",
              "      <td>1.000000</td>\n",
              "    </tr>\n",
              "    <tr>\n",
              "      <th>max</th>\n",
              "      <td>96.000000</td>\n",
              "      <td>1.000000</td>\n",
              "      <td>9985.000000</td>\n",
              "      <td>11.000000</td>\n",
              "      <td>16.000000</td>\n",
              "      <td>12.000000</td>\n",
              "      <td>11.000000</td>\n",
              "      <td>15.000000</td>\n",
              "      <td>1.000000</td>\n",
              "      <td>10200.000000</td>\n",
              "      <td>99750.000000</td>\n",
              "      <td>0.999997</td>\n",
              "      <td>0.999024</td>\n",
              "      <td>0.978932</td>\n",
              "      <td>0.996260</td>\n",
              "      <td>0.970249</td>\n",
              "      <td>0.966953</td>\n",
              "      <td>30.000000</td>\n",
              "      <td>1.000000</td>\n",
              "    </tr>\n",
              "  </tbody>\n",
              "</table>\n",
              "</div>\n",
              "      <button class=\"colab-df-convert\" onclick=\"convertToInteractive('df-1f2755e7-4eb6-40f5-8700-b65cdac3e055')\"\n",
              "              title=\"Convert this dataframe to an interactive table.\"\n",
              "              style=\"display:none;\">\n",
              "        \n",
              "  <svg xmlns=\"http://www.w3.org/2000/svg\" height=\"24px\"viewBox=\"0 0 24 24\"\n",
              "       width=\"24px\">\n",
              "    <path d=\"M0 0h24v24H0V0z\" fill=\"none\"/>\n",
              "    <path d=\"M18.56 5.44l.94 2.06.94-2.06 2.06-.94-2.06-.94-.94-2.06-.94 2.06-2.06.94zm-11 1L8.5 8.5l.94-2.06 2.06-.94-2.06-.94L8.5 2.5l-.94 2.06-2.06.94zm10 10l.94 2.06.94-2.06 2.06-.94-2.06-.94-.94-2.06-.94 2.06-2.06.94z\"/><path d=\"M17.41 7.96l-1.37-1.37c-.4-.4-.92-.59-1.43-.59-.52 0-1.04.2-1.43.59L10.3 9.45l-7.72 7.72c-.78.78-.78 2.05 0 2.83L4 21.41c.39.39.9.59 1.41.59.51 0 1.02-.2 1.41-.59l7.78-7.78 2.81-2.81c.8-.78.8-2.07 0-2.86zM5.41 20L4 18.59l7.72-7.72 1.47 1.35L5.41 20z\"/>\n",
              "  </svg>\n",
              "      </button>\n",
              "      \n",
              "  <style>\n",
              "    .colab-df-container {\n",
              "      display:flex;\n",
              "      flex-wrap:wrap;\n",
              "      gap: 12px;\n",
              "    }\n",
              "\n",
              "    .colab-df-convert {\n",
              "      background-color: #E8F0FE;\n",
              "      border: none;\n",
              "      border-radius: 50%;\n",
              "      cursor: pointer;\n",
              "      display: none;\n",
              "      fill: #1967D2;\n",
              "      height: 32px;\n",
              "      padding: 0 0 0 0;\n",
              "      width: 32px;\n",
              "    }\n",
              "\n",
              "    .colab-df-convert:hover {\n",
              "      background-color: #E2EBFA;\n",
              "      box-shadow: 0px 1px 2px rgba(60, 64, 67, 0.3), 0px 1px 3px 1px rgba(60, 64, 67, 0.15);\n",
              "      fill: #174EA6;\n",
              "    }\n",
              "\n",
              "    [theme=dark] .colab-df-convert {\n",
              "      background-color: #3B4455;\n",
              "      fill: #D2E3FC;\n",
              "    }\n",
              "\n",
              "    [theme=dark] .colab-df-convert:hover {\n",
              "      background-color: #434B5C;\n",
              "      box-shadow: 0px 1px 3px 1px rgba(0, 0, 0, 0.15);\n",
              "      filter: drop-shadow(0px 1px 2px rgba(0, 0, 0, 0.3));\n",
              "      fill: #FFFFFF;\n",
              "    }\n",
              "  </style>\n",
              "\n",
              "      <script>\n",
              "        const buttonEl =\n",
              "          document.querySelector('#df-1f2755e7-4eb6-40f5-8700-b65cdac3e055 button.colab-df-convert');\n",
              "        buttonEl.style.display =\n",
              "          google.colab.kernel.accessAllowed ? 'block' : 'none';\n",
              "\n",
              "        async function convertToInteractive(key) {\n",
              "          const element = document.querySelector('#df-1f2755e7-4eb6-40f5-8700-b65cdac3e055');\n",
              "          const dataTable =\n",
              "            await google.colab.kernel.invokeFunction('convertToInteractive',\n",
              "                                                     [key], {});\n",
              "          if (!dataTable) return;\n",
              "\n",
              "          const docLinkHtml = 'Like what you see? Visit the ' +\n",
              "            '<a target=\"_blank\" href=https://colab.research.google.com/notebooks/data_table.ipynb>data table notebook</a>'\n",
              "            + ' to learn more about interactive tables.';\n",
              "          element.innerHTML = '';\n",
              "          dataTable['output_type'] = 'display_data';\n",
              "          await google.colab.output.renderOutput(dataTable, element);\n",
              "          const docLink = document.createElement('div');\n",
              "          docLink.innerHTML = docLinkHtml;\n",
              "          element.appendChild(docLink);\n",
              "        }\n",
              "      </script>\n",
              "    </div>\n",
              "  </div>\n",
              "  "
            ]
          },
          "metadata": {},
          "execution_count": 169
        }
      ]
    },
    {
      "cell_type": "markdown",
      "source": [
        "Во многих столбцах мы можем наблюдать большую разницу между 75 квартилем и максимумом, давайте изучить такие столбцы подробнее"
      ],
      "metadata": {
        "id": "xiPneS8O5dPY"
      }
    },
    {
      "cell_type": "markdown",
      "source": [
        "##Age"
      ],
      "metadata": {
        "id": "8jTx9HxN-psJ"
      }
    },
    {
      "cell_type": "code",
      "source": [
        "data['age'].hist(color='purple')"
      ],
      "metadata": {
        "colab": {
          "base_uri": "https://localhost:8080/",
          "height": 282
        },
        "id": "4AinZhbt6bgo",
        "outputId": "f0322d82-37b9-4d52-ef44-cb8623903329"
      },
      "execution_count": null,
      "outputs": [
        {
          "output_type": "execute_result",
          "data": {
            "text/plain": [
              "<matplotlib.axes._subplots.AxesSubplot at 0x7f6810946410>"
            ]
          },
          "metadata": {},
          "execution_count": 170
        },
        {
          "output_type": "display_data",
          "data": {
            "text/plain": [
              "<Figure size 432x288 with 1 Axes>"
            ],
            "image/png": "[encoded data removed]"
          },
          "metadata": {
            "needs_background": "light"
          }
        }
      ]
    },
    {
      "cell_type": "code",
      "source": [
        "plt.figure(figsize=(25,2))\n",
        "sns.boxplot(data['age'],fliersize=10, color='purple');"
      ],
      "metadata": {
        "colab": {
          "base_uri": "https://localhost:8080/",
          "height": 210
        },
        "id": "X5EJg1-O5nOx",
        "outputId": "91ae478f-fad0-4566-8c85-0419cbb74edd"
      },
      "execution_count": null,
      "outputs": [
        {
          "output_type": "stream",
          "name": "stderr",
          "text": [
            "/usr/local/lib/python3.7/dist-packages/seaborn/_decorators.py:43: FutureWarning: Pass the following variable as a keyword arg: x. From version 0.12, the only valid positional argument will be `data`, and passing other arguments without an explicit keyword will result in an error or misinterpretation.\n",
            "  FutureWarning\n"
          ]
        },
        {
          "output_type": "display_data",
          "data": {
            "text/plain": [
              "<Figure size 1800x144 with 1 Axes>"
            ],
            "image/png": "[encoded data removed]"
          },
          "metadata": {
            "needs_background": "light"
          }
        }
      ]
    },
    {
      "cell_type": "code",
      "source": [
        "len(data[data['age']>51.0]['age'])"
      ],
      "metadata": {
        "colab": {
          "base_uri": "https://localhost:8080/"
        },
        "id": "QGE7wDRM8nl4",
        "outputId": "eb0ffd79-30a9-442c-adf9-57be38c4f1be"
      },
      "execution_count": null,
      "outputs": [
        {
          "output_type": "execute_result",
          "data": {
            "text/plain": [
              "4415"
            ]
          },
          "metadata": {},
          "execution_count": 172
        }
      ]
    },
    {
      "cell_type": "markdown",
      "source": [
        "Записей больших по значению чем значение 75 квартиля, очень много, выбрасывать их не стоит, поэтому посчитаем за выбросы те значения, что выходят за 75кв+ 1.5*(мкр), где мкр - межквартильный размах"
      ],
      "metadata": {
        "id": "ly9k5DsT84DX"
      }
    },
    {
      "cell_type": "code",
      "source": [
        "age_mkr = 51 -34\n",
        "gran_vib = 51 + 1.5*(age_mkr)\n",
        "len(data[data['age']>gran_vib])"
      ],
      "metadata": {
        "colab": {
          "base_uri": "https://localhost:8080/"
        },
        "id": "6Yngnn4x-v97",
        "outputId": "fb548cf2-9fcd-4ddb-c73f-00242642df6a"
      },
      "execution_count": null,
      "outputs": [
        {
          "output_type": "execute_result",
          "data": {
            "text/plain": [
              "62"
            ]
          },
          "metadata": {},
          "execution_count": 173
        }
      ]
    },
    {
      "cell_type": "markdown",
      "source": [
        "Теперь можно выбросить эти данные со спокойной душой)"
      ],
      "metadata": {
        "id": "AtXiC5F7Gj2_"
      }
    },
    {
      "cell_type": "code",
      "source": [
        "data = data[data['age']<gran_vib]"
      ],
      "metadata": {
        "id": "v0aLfCtGGpOE"
      },
      "execution_count": null,
      "outputs": []
    },
    {
      "cell_type": "markdown",
      "source": [
        "## Income"
      ],
      "metadata": {
        "id": "4RL4drj1ACWC"
      }
    },
    {
      "cell_type": "code",
      "source": [
        "data['income'].hist(color='purple')"
      ],
      "metadata": {
        "colab": {
          "base_uri": "https://localhost:8080/",
          "height": 282
        },
        "id": "i6yEKiwGAF-H",
        "outputId": "81c637bd-15c8-423e-dc3d-af18beb38dc9"
      },
      "execution_count": null,
      "outputs": [
        {
          "output_type": "execute_result",
          "data": {
            "text/plain": [
              "<matplotlib.axes._subplots.AxesSubplot at 0x7f681074d810>"
            ]
          },
          "metadata": {},
          "execution_count": 175
        },
        {
          "output_type": "display_data",
          "data": {
            "text/plain": [
              "<Figure size 432x288 with 1 Axes>"
            ],
            "image/png": "[encoded data removed]"
          },
          "metadata": {
            "needs_background": "light"
          }
        }
      ]
    },
    {
      "cell_type": "code",
      "source": [
        "plt.figure(figsize=(25,2))\n",
        "sns.boxplot(data['income'],fliersize=10, color='purple');"
      ],
      "metadata": {
        "colab": {
          "base_uri": "https://localhost:8080/",
          "height": 210
        },
        "id": "KpoFe-fgAJfx",
        "outputId": "04f4c834-2a7a-4293-ea7a-8889e18c176b"
      },
      "execution_count": null,
      "outputs": [
        {
          "output_type": "stream",
          "name": "stderr",
          "text": [
            "/usr/local/lib/python3.7/dist-packages/seaborn/_decorators.py:43: FutureWarning: Pass the following variable as a keyword arg: x. From version 0.12, the only valid positional argument will be `data`, and passing other arguments without an explicit keyword will result in an error or misinterpretation.\n",
            "  FutureWarning\n"
          ]
        },
        {
          "output_type": "display_data",
          "data": {
            "text/plain": [
              "<Figure size 1800x144 with 1 Axes>"
            ],
            "image/png": "[encoded data removed]"
          },
          "metadata": {
            "needs_background": "light"
          }
        }
      ]
    },
    {
      "cell_type": "code",
      "source": [
        "len(data[data['income']>4670.0])"
      ],
      "metadata": {
        "id": "3Y4WVZk5APCK",
        "colab": {
          "base_uri": "https://localhost:8080/"
        },
        "outputId": "e023e0e4-d687-4d9d-8905-11b6515a547c"
      },
      "execution_count": null,
      "outputs": [
        {
          "output_type": "execute_result",
          "data": {
            "text/plain": [
              "4445"
            ]
          },
          "metadata": {},
          "execution_count": 177
        }
      ]
    },
    {
      "cell_type": "code",
      "source": [
        "inc_mkr = (4670.0\t - 2580.0)\n",
        "gran_vib = 4670.0\t + 1.5*(inc_mkr)\n",
        "len(data[data['income']>gran_vib])"
      ],
      "metadata": {
        "id": "il-wdGWUG7hj",
        "colab": {
          "base_uri": "https://localhost:8080/"
        },
        "outputId": "fa381e43-89aa-4560-bd2e-b354db6c2f70"
      },
      "execution_count": null,
      "outputs": [
        {
          "output_type": "execute_result",
          "data": {
            "text/plain": [
              "276"
            ]
          },
          "metadata": {},
          "execution_count": 178
        }
      ]
    },
    {
      "cell_type": "code",
      "source": [
        "data = data[data['income']<gran_vib]"
      ],
      "metadata": {
        "id": "y0b0pwSRHI7j"
      },
      "execution_count": null,
      "outputs": []
    },
    {
      "cell_type": "markdown",
      "source": [
        "## amount requested\t"
      ],
      "metadata": {
        "id": "FTBrqdU9Ck8t"
      }
    },
    {
      "cell_type": "code",
      "source": [
        "data['amount_requested'].hist(color='purple')"
      ],
      "metadata": {
        "colab": {
          "base_uri": "https://localhost:8080/",
          "height": 284
        },
        "id": "xeO8dJkaCmtf",
        "outputId": "7ee0c372-9421-433d-fb8b-2bfdef4f2c20"
      },
      "execution_count": null,
      "outputs": [
        {
          "output_type": "execute_result",
          "data": {
            "text/plain": [
              "<matplotlib.axes._subplots.AxesSubplot at 0x7f68101e1290>"
            ]
          },
          "metadata": {},
          "execution_count": 192
        },
        {
          "output_type": "display_data",
          "data": {
            "text/plain": [
              "<Figure size 432x288 with 1 Axes>"
            ],
            "image/png": "[encoded data removed]"
          },
          "metadata": {
            "needs_background": "light"
          }
        }
      ]
    },
    {
      "cell_type": "code",
      "source": [
        "plt.figure(figsize=(25,2))\n",
        "sns.boxplot(data['amount_requested'],fliersize=10, color='purple');"
      ],
      "metadata": {
        "colab": {
          "base_uri": "https://localhost:8080/",
          "height": 211
        },
        "id": "qofN2ibICt35",
        "outputId": "9053b72b-cdb3-408b-9315-cc93df8ed2cc"
      },
      "execution_count": null,
      "outputs": [
        {
          "output_type": "stream",
          "name": "stderr",
          "text": [
            "/usr/local/lib/python3.7/dist-packages/seaborn/_decorators.py:43: FutureWarning: Pass the following variable as a keyword arg: x. From version 0.12, the only valid positional argument will be `data`, and passing other arguments without an explicit keyword will result in an error or misinterpretation.\n",
            "  FutureWarning\n"
          ]
        },
        {
          "output_type": "display_data",
          "data": {
            "text/plain": [
              "<Figure size 1800x144 with 1 Axes>"
            ],
            "image/png": "[encoded data removed]"
          },
          "metadata": {
            "needs_background": "light"
          }
        }
      ]
    },
    {
      "cell_type": "code",
      "source": [
        "len(data[data['amount_requested']>1100.00])"
      ],
      "metadata": {
        "colab": {
          "base_uri": "https://localhost:8080/"
        },
        "id": "YprMX4aPIHhn",
        "outputId": "af4fe38f-a992-4bd9-acf9-5dff4abde275"
      },
      "execution_count": null,
      "outputs": [
        {
          "output_type": "execute_result",
          "data": {
            "text/plain": [
              "2715"
            ]
          },
          "metadata": {},
          "execution_count": 197
        }
      ]
    },
    {
      "cell_type": "code",
      "source": [
        "ar_mkr = (1100\t - 600)\n",
        "gran_vib = 1100\t + 1.5*(inc_mkr)\n",
        "len(data[data['amount_requested']>gran_vib])"
      ],
      "metadata": {
        "colab": {
          "base_uri": "https://localhost:8080/"
        },
        "id": "AEIIG6BMIQkI",
        "outputId": "7c2c466b-d49b-433f-eefb-c18dcffdc55f"
      },
      "execution_count": null,
      "outputs": [
        {
          "output_type": "execute_result",
          "data": {
            "text/plain": [
              "0"
            ]
          },
          "metadata": {},
          "execution_count": 195
        }
      ]
    },
    {
      "cell_type": "code",
      "source": [
        "data = data[data['amount_requested']<gran_vib]"
      ],
      "metadata": {
        "id": "EQwQCAnzIbDM"
      },
      "execution_count": null,
      "outputs": []
    },
    {
      "cell_type": "markdown",
      "source": [
        "## Скрытые метрики"
      ],
      "metadata": {
        "id": "HeoN4rvvJvFg"
      }
    },
    {
      "cell_type": "code",
      "source": [
        "fig, ax = plt.subplots(3, 3, figsize=(14, 14))\n",
        "fig.suptitle('Анализ распределения')\n",
        "sns.histplot(y=data['risk_score'],ax=ax[0,0])\n",
        "sns.histplot(y=data['risk_score_2'],ax=ax[0,1])\n",
        "sns.histplot(y=data['risk_score_3'],ax=ax[0,2])\n",
        "sns.histplot(y=data['risk_score_4'],ax=ax[1,0])\n",
        "sns.histplot(y=data['risk_score_5'],ax=ax[1,1])\n",
        "sns.histplot(y=data['ext_quality_score'],ax=ax[1,2])\n",
        "sns.histplot(y=data['ext_quality_score_2'],ax=ax[2,0])"
      ],
      "metadata": {
        "colab": {
          "base_uri": "https://localhost:8080/",
          "height": 941
        },
        "id": "kb9Re9v1KHIU",
        "outputId": "e6372542-8d3a-4855-c595-cd22f93916d5"
      },
      "execution_count": null,
      "outputs": [
        {
          "output_type": "execute_result",
          "data": {
            "text/plain": [
              "<matplotlib.axes._subplots.AxesSubplot at 0x7f680f743310>"
            ]
          },
          "metadata": {},
          "execution_count": 199
        },
        {
          "output_type": "display_data",
          "data": {
            "text/plain": [
              "<Figure size 1008x1008 with 9 Axes>"
            ],
            "image/png": "[encoded data removed]"
          },
          "metadata": {
            "needs_background": "light"
          }
        }
      ]
    },
    {
      "cell_type": "code",
      "source": [
        "fig, ax = plt.subplots(3, 3, figsize=(14, 14))\n",
        "fig.suptitle('Анализ выбросов')\n",
        "sns.boxplot(y=data['risk_score'],ax=ax[0,0])\n",
        "sns.boxplot(y=data['risk_score_2'],ax=ax[0,1])\n",
        "sns.boxplot(y=data['risk_score_3'],ax=ax[0,2])\n",
        "sns.boxplot(y=data['risk_score_4'],ax=ax[1,0])\n",
        "sns.boxplot(y=data['risk_score_5'],ax=ax[1,1])\n",
        "sns.boxplot(y=data['ext_quality_score'],ax=ax[1,2])\n",
        "sns.boxplot(y=data['ext_quality_score_2'],ax=ax[2,0])"
      ],
      "metadata": {
        "colab": {
          "base_uri": "https://localhost:8080/",
          "height": 927
        },
        "id": "DPkdb47nJxJg",
        "outputId": "c174fce1-dd2c-4f64-cc4b-6449365842bb"
      },
      "execution_count": null,
      "outputs": [
        {
          "output_type": "execute_result",
          "data": {
            "text/plain": [
              "<matplotlib.axes._subplots.AxesSubplot at 0x7f680eeab0d0>"
            ]
          },
          "metadata": {},
          "execution_count": 200
        },
        {
          "output_type": "display_data",
          "data": {
            "text/plain": [
              "<Figure size 1008x1008 with 9 Axes>"
            ],
            "image/png": "[encoded data removed]"
          },
          "metadata": {
            "needs_background": "light"
          }
        }
      ]
    },
    {
      "cell_type": "code",
      "source": [
        "# 72750.000000\t0.752875\t0.912608\t0.672431\t0.806736\t0.729776\t0.728940\t"
      ],
      "metadata": {
        "id": "g7sYgBxYKmA3"
      },
      "execution_count": null,
      "outputs": []
    },
    {
      "cell_type": "code",
      "source": [
        "# 61200.000000\t0.699532\t0.881004\t0.588231\t0.725201\t0.625873\t0.622991\t"
      ],
      "metadata": {
        "id": "6FaYNOZ4KqgR"
      },
      "execution_count": null,
      "outputs": []
    },
    {
      "cell_type": "code",
      "source": [
        "sf_kr = [72750.000000,0.752875,\t0.912608,\t0.672431,\t0.806736,\t0.729776,\t0.728940]\n",
        "secret_mkr = []\n",
        "secret_mkr.append(72750.0-61200.0)\n",
        "secret_mkr.append(0.752875-0.699532)\n",
        "secret_mkr.append(0.912608-0.881004)\n",
        "secret_mkr.append(0.672431-0.588231)\n",
        "secret_mkr.append(0.806736-0.725201)\n",
        "secret_mkr.append(0.729776-0.625873)\n",
        "secret_mkr.append(0.728940-0.622991)\n"
      ],
      "metadata": {
        "id": "LlHAVwURLYwZ"
      },
      "execution_count": null,
      "outputs": []
    },
    {
      "cell_type": "code",
      "source": [
        "print(len(data[data['risk_score']>sf_kr[0]+1.5*secret_mkr[0]]))\n",
        "print(len(data[data['risk_score_2']>sf_kr[1]+1.5*secret_mkr[1]]))\n",
        "print(len(data[data['risk_score_3']>sf_kr[2]+1.5*secret_mkr[2]]))\n",
        "print(len(data[data['risk_score_4']>sf_kr[3]+1.5*secret_mkr[3]]))\n",
        "print(len(data[data['risk_score_5']>sf_kr[4]+1.5*secret_mkr[4]]))\n",
        "print(len(data[data['ext_quality_score']>sf_kr[5]+1.5*secret_mkr[5]]))\n",
        "print(len(data[data['ext_quality_score_2']>sf_kr[6]+1.5*secret_mkr[6]]))\n"
      ],
      "metadata": {
        "colab": {
          "base_uri": "https://localhost:8080/"
        },
        "id": "cR1lwku0MCFY",
        "outputId": "ee87dee2-e91d-4251-8670-e8e4d1499a55"
      },
      "execution_count": null,
      "outputs": [
        {
          "output_type": "stream",
          "name": "stdout",
          "text": [
            "0\n",
            "0\n",
            "0\n",
            "0\n",
            "0\n",
            "0\n",
            "0\n"
          ]
        }
      ]
    },
    {
      "cell_type": "code",
      "source": [
        "data = data[data['risk_score']<sf_kr[0]+1.5*secret_mkr[0]]\n",
        "data = data[data['risk_score_2']<sf_kr[1]+1.5*secret_mkr[1]]\n",
        "data = data[data['risk_score_3']<sf_kr[2]+1.5*secret_mkr[2]]\n",
        "data = data[data['risk_score_4']<sf_kr[3]+1.5*secret_mkr[3]]\n",
        "data = data[data['risk_score_5']<sf_kr[4]+1.5*secret_mkr[4]]\n",
        "data = data[data['ext_quality_score']<sf_kr[5]+1.5*secret_mkr[5]] \n",
        "data = data[data['ext_quality_score_2']<sf_kr[6]+1.5*secret_mkr[6]]"
      ],
      "metadata": {
        "id": "B1zZ7e_ZMOQA"
      },
      "execution_count": null,
      "outputs": []
    },
    {
      "cell_type": "markdown",
      "source": [
        "## Категориальные признаки\n"
      ],
      "metadata": {
        "id": "DiBD0NSxa3DN"
      }
    },
    {
      "cell_type": "markdown",
      "source": [
        "## Month + Year Employ"
      ],
      "metadata": {
        "id": "wo9i6uC8Yehk"
      }
    },
    {
      "cell_type": "code",
      "source": [
        "fig, axs = plt.subplots(1, 2, figsize=(14,8))\n",
        "sns.countplot(ax=axs[0], data=data, x='e_signed', hue=data['months_employed'], palette='mako')\n",
        "sns.countplot(ax=axs[1], data=data, x='e_signed', hue=data['years_employed'], palette='mako')"
      ],
      "metadata": {
        "colab": {
          "base_uri": "https://localhost:8080/",
          "height": 515
        },
        "id": "E4HZaYP5Yuwh",
        "outputId": "c9ac7292-8718-4724-e4dc-014c0ea10f60"
      },
      "execution_count": null,
      "outputs": [
        {
          "output_type": "execute_result",
          "data": {
            "text/plain": [
              "<matplotlib.axes._subplots.AxesSubplot at 0x7f680f0ab590>"
            ]
          },
          "metadata": {},
          "execution_count": 206
        },
        {
          "output_type": "display_data",
          "data": {
            "text/plain": [
              "<Figure size 1008x576 with 2 Axes>"
            ],
            "image/png": "[encoded data removed]"
          },
          "metadata": {
            "needs_background": "light"
          }
        }
      ]
    },
    {
      "cell_type": "markdown",
      "source": [
        "Те кто работают меньше 5 лет охотнее берут кредиты, нежели те, кто уже работает долго"
      ],
      "metadata": {
        "id": "N-nU0oj5ZIge"
      }
    },
    {
      "cell_type": "markdown",
      "source": [
        "## Длительность проживания в одном месте"
      ],
      "metadata": {
        "id": "kPuiH2dRZVBb"
      }
    },
    {
      "cell_type": "code",
      "source": [
        "fig, axs = plt.subplots(1, 2, figsize=(14,8))\n",
        "sns.countplot(ax=axs[0], data=data, x='e_signed', hue=data['current_address_year'], palette='mako')"
      ],
      "metadata": {
        "colab": {
          "base_uri": "https://localhost:8080/",
          "height": 519
        },
        "id": "WZzrgTSpZ1RC",
        "outputId": "b34ec373-bf19-4a24-b702-e24281e62f78"
      },
      "execution_count": null,
      "outputs": [
        {
          "output_type": "execute_result",
          "data": {
            "text/plain": [
              "<matplotlib.axes._subplots.AxesSubplot at 0x7f680eb20610>"
            ]
          },
          "metadata": {},
          "execution_count": 207
        },
        {
          "output_type": "display_data",
          "data": {
            "text/plain": [
              "<Figure size 1008x576 with 2 Axes>"
            ],
            "image/png": "[encoded data removed]"
          },
          "metadata": {
            "needs_background": "light"
          }
        }
      ]
    },
    {
      "cell_type": "markdown",
      "source": [
        "Те кто живут на одном месте меньше 6 лет, чаще берут соглашаются на кредит, нежели те, кто живут на одном месте достаточно долго"
      ],
      "metadata": {
        "id": "ZkDiRHzKaNu4"
      }
    },
    {
      "cell_type": "markdown",
      "source": [
        "## Количество лет аккаунту"
      ],
      "metadata": {
        "id": "G5Gvos8bZjxg"
      }
    },
    {
      "cell_type": "code",
      "source": [
        "fig, axs = plt.subplots(1, 2, figsize=(14,8))\n",
        "sns.countplot(ax=axs[0], data=data, x='e_signed', hue=data['personal_account_m'], palette='mako')\n",
        "sns.countplot(ax=axs[1], data=data, x='e_signed', hue=data['personal_account_y'], palette='mako')"
      ],
      "metadata": {
        "colab": {
          "base_uri": "https://localhost:8080/"
        },
        "id": "ZJqvQYvPaX_E",
        "outputId": "0bb86bb1-2e69-4fd3-8e23-b82a4c220257"
      },
      "execution_count": null,
      "outputs": [
        {
          "output_type": "execute_result",
          "data": {
            "text/plain": [
              "<matplotlib.axes._subplots.AxesSubplot at 0x7fb70e1ffb90>"
            ]
          },
          "metadata": {},
          "execution_count": 34
        },
        {
          "output_type": "display_data",
          "data": {
            "text/plain": [
              "<Figure size 1008x576 with 2 Axes>"
            ],
            "image/png": "[encoded data removed]"
          },
          "metadata": {
            "needs_background": "light"
          }
        }
      ]
    },
    {
      "cell_type": "code",
      "source": [
        "data.info()"
      ],
      "metadata": {
        "colab": {
          "base_uri": "https://localhost:8080/"
        },
        "id": "Y0mqfqNY5MDP",
        "outputId": "2a211baf-ca50-4127-d65f-6247d423b70a"
      },
      "execution_count": null,
      "outputs": [
        {
          "output_type": "stream",
          "name": "stdout",
          "text": [
            "<class 'pandas.core.frame.DataFrame'>\n",
            "Int64Index: 14713 entries, 0 to 17907\n",
            "Data columns (total 20 columns):\n",
            " #   Column                Non-Null Count  Dtype  \n",
            "---  ------                --------------  -----  \n",
            " 0   age                   14713 non-null  int64  \n",
            " 1   pay_schedule          14713 non-null  object \n",
            " 2   home_owner            14713 non-null  int64  \n",
            " 3   income                14713 non-null  int64  \n",
            " 4   months_employed       14713 non-null  int64  \n",
            " 5   years_employed        14713 non-null  int64  \n",
            " 6   current_address_year  14713 non-null  int64  \n",
            " 7   personal_account_m    14713 non-null  int64  \n",
            " 8   personal_account_y    14713 non-null  int64  \n",
            " 9   has_debt              14713 non-null  int64  \n",
            " 10  amount_requested      14713 non-null  int64  \n",
            " 11  risk_score            14713 non-null  int64  \n",
            " 12  risk_score_2          14713 non-null  float64\n",
            " 13  risk_score_3          14713 non-null  float64\n",
            " 14  risk_score_4          14713 non-null  float64\n",
            " 15  risk_score_5          14713 non-null  float64\n",
            " 16  ext_quality_score     14713 non-null  float64\n",
            " 17  ext_quality_score_2   14713 non-null  float64\n",
            " 18  inquiries_last_month  14713 non-null  int64  \n",
            " 19  e_signed              14713 non-null  int64  \n",
            "dtypes: float64(6), int64(13), object(1)\n",
            "memory usage: 2.9+ MB\n"
          ]
        }
      ]
    },
    {
      "cell_type": "code",
      "source": [
        "\n",
        "fig, axs = plt.subplots(1, 3, figsize=(14,4))\n",
        "sns.countplot(ax=axs[0], data=data, x='e_signed', hue=data['home_owner'], palette='mako')\n",
        "sns.countplot(ax=axs[1], data=data, x='e_signed', hue=data['has_debt'], palette='mako')\n",
        "sns.countplot(ax=axs[2], data=data, x='e_signed', hue=data['pay_schedule'], palette='mako')\n"
      ],
      "metadata": {
        "colab": {
          "base_uri": "https://localhost:8080/",
          "height": 298
        },
        "id": "_GHFZKAWOytw",
        "outputId": "c62f0c07-bc85-4d98-a992-ec2ffa0df11f"
      },
      "execution_count": null,
      "outputs": [
        {
          "output_type": "execute_result",
          "data": {
            "text/plain": [
              "<matplotlib.axes._subplots.AxesSubplot at 0x7f6815c26c10>"
            ]
          },
          "metadata": {},
          "execution_count": 81
        },
        {
          "output_type": "display_data",
          "data": {
            "text/plain": [
              "<Figure size 1008x288 with 3 Axes>"
            ],
            "image/png": "[encoded data removed]"
          },
          "metadata": {
            "needs_background": "light"
          }
        }
      ]
    },
    {
      "cell_type": "markdown",
      "source": [
        "На графиках видно, что:\n",
        "\n",
        "Большинство людей предпочитают платить раз в две недели\n",
        "\n",
        "Люди, у которых есть нет дома, охотнее завершают процесс электронной подписи\n",
        "\n",
        "Число людей, у которых есть долги, значительно выше, чем людей, которые не имеют долгов"
      ],
      "metadata": {
        "id": "qDm3DBHYQr4a"
      }
    },
    {
      "cell_type": "markdown",
      "source": [
        "## Зависимости "
      ],
      "metadata": {
        "id": "6_jv1Xz4bap7"
      }
    },
    {
      "cell_type": "code",
      "source": [
        "plt.figure(figsize=(20,12))\n",
        "sns.heatmap(data=data.corr(), annot=True, cmap='mako')"
      ],
      "metadata": {
        "colab": {
          "base_uri": "https://localhost:8080/",
          "height": 819
        },
        "id": "Ljmrj-6IbZHg",
        "outputId": "40fa729d-3743-4f9b-e8f2-19cbc43f10a5"
      },
      "execution_count": null,
      "outputs": [
        {
          "output_type": "execute_result",
          "data": {
            "text/plain": [
              "<matplotlib.axes._subplots.AxesSubplot at 0x7f6815dd8350>"
            ]
          },
          "metadata": {},
          "execution_count": 88
        },
        {
          "output_type": "display_data",
          "data": {
            "text/plain": [
              "<Figure size 1440x864 with 2 Axes>"
            ],
            "image/png": "[encoded data removed]"
          },
          "metadata": {
            "needs_background": "light"
          }
        }
      ]
    },
    {
      "cell_type": "markdown",
      "source": [
        "С целевой переменной корреляций нет, между переменными есть лишь незначительная"
      ],
      "metadata": {
        "id": "gkkTyUMSb4UE"
      }
    },
    {
      "cell_type": "markdown",
      "source": [
        "# Кодирование категориальных признаков"
      ],
      "metadata": {
        "id": "MNrC8iIZdFsT"
      }
    },
    {
      "cell_type": "code",
      "source": [
        "dummie_df = pd.get_dummies(data,columns = ['months_employed',\t'years_employed',\t'current_address_year',\t'personal_account_m',\t'personal_account_y',\t'pay_schedule'], drop_first = True)\n",
        "dummie_df.info()"
      ],
      "metadata": {
        "colab": {
          "base_uri": "https://localhost:8080/"
        },
        "id": "P_ZGxGVabpE1",
        "outputId": "41608dc2-8c18-4bc4-9073-abed85487998"
      },
      "execution_count": null,
      "outputs": [
        {
          "output_type": "stream",
          "name": "stdout",
          "text": [
            "<class 'pandas.core.frame.DataFrame'>\n",
            "Int64Index: 14713 entries, 0 to 17907\n",
            "Data columns (total 81 columns):\n",
            " #   Column                     Non-Null Count  Dtype  \n",
            "---  ------                     --------------  -----  \n",
            " 0   age                        14713 non-null  int64  \n",
            " 1   home_owner                 14713 non-null  int64  \n",
            " 2   income                     14713 non-null  int64  \n",
            " 3   has_debt                   14713 non-null  int64  \n",
            " 4   amount_requested           14713 non-null  int64  \n",
            " 5   risk_score                 14713 non-null  int64  \n",
            " 6   risk_score_2               14713 non-null  float64\n",
            " 7   risk_score_3               14713 non-null  float64\n",
            " 8   risk_score_4               14713 non-null  float64\n",
            " 9   risk_score_5               14713 non-null  float64\n",
            " 10  ext_quality_score          14713 non-null  float64\n",
            " 11  ext_quality_score_2        14713 non-null  float64\n",
            " 12  inquiries_last_month       14713 non-null  int64  \n",
            " 13  e_signed                   14713 non-null  int64  \n",
            " 14  months_employed_1          14713 non-null  uint8  \n",
            " 15  months_employed_2          14713 non-null  uint8  \n",
            " 16  months_employed_3          14713 non-null  uint8  \n",
            " 17  months_employed_4          14713 non-null  uint8  \n",
            " 18  months_employed_5          14713 non-null  uint8  \n",
            " 19  months_employed_6          14713 non-null  uint8  \n",
            " 20  months_employed_7          14713 non-null  uint8  \n",
            " 21  months_employed_8          14713 non-null  uint8  \n",
            " 22  months_employed_9          14713 non-null  uint8  \n",
            " 23  months_employed_10         14713 non-null  uint8  \n",
            " 24  months_employed_11         14713 non-null  uint8  \n",
            " 25  years_employed_1           14713 non-null  uint8  \n",
            " 26  years_employed_2           14713 non-null  uint8  \n",
            " 27  years_employed_3           14713 non-null  uint8  \n",
            " 28  years_employed_4           14713 non-null  uint8  \n",
            " 29  years_employed_5           14713 non-null  uint8  \n",
            " 30  years_employed_6           14713 non-null  uint8  \n",
            " 31  years_employed_7           14713 non-null  uint8  \n",
            " 32  years_employed_8           14713 non-null  uint8  \n",
            " 33  years_employed_9           14713 non-null  uint8  \n",
            " 34  years_employed_10          14713 non-null  uint8  \n",
            " 35  years_employed_11          14713 non-null  uint8  \n",
            " 36  years_employed_12          14713 non-null  uint8  \n",
            " 37  years_employed_13          14713 non-null  uint8  \n",
            " 38  years_employed_14          14713 non-null  uint8  \n",
            " 39  years_employed_15          14713 non-null  uint8  \n",
            " 40  years_employed_16          14713 non-null  uint8  \n",
            " 41  current_address_year_1     14713 non-null  uint8  \n",
            " 42  current_address_year_2     14713 non-null  uint8  \n",
            " 43  current_address_year_3     14713 non-null  uint8  \n",
            " 44  current_address_year_4     14713 non-null  uint8  \n",
            " 45  current_address_year_5     14713 non-null  uint8  \n",
            " 46  current_address_year_6     14713 non-null  uint8  \n",
            " 47  current_address_year_7     14713 non-null  uint8  \n",
            " 48  current_address_year_8     14713 non-null  uint8  \n",
            " 49  current_address_year_9     14713 non-null  uint8  \n",
            " 50  current_address_year_10    14713 non-null  uint8  \n",
            " 51  current_address_year_11    14713 non-null  uint8  \n",
            " 52  current_address_year_12    14713 non-null  uint8  \n",
            " 53  personal_account_m_1       14713 non-null  uint8  \n",
            " 54  personal_account_m_2       14713 non-null  uint8  \n",
            " 55  personal_account_m_3       14713 non-null  uint8  \n",
            " 56  personal_account_m_4       14713 non-null  uint8  \n",
            " 57  personal_account_m_5       14713 non-null  uint8  \n",
            " 58  personal_account_m_6       14713 non-null  uint8  \n",
            " 59  personal_account_m_7       14713 non-null  uint8  \n",
            " 60  personal_account_m_8       14713 non-null  uint8  \n",
            " 61  personal_account_m_9       14713 non-null  uint8  \n",
            " 62  personal_account_m_10      14713 non-null  uint8  \n",
            " 63  personal_account_m_11      14713 non-null  uint8  \n",
            " 64  personal_account_y_1       14713 non-null  uint8  \n",
            " 65  personal_account_y_2       14713 non-null  uint8  \n",
            " 66  personal_account_y_3       14713 non-null  uint8  \n",
            " 67  personal_account_y_4       14713 non-null  uint8  \n",
            " 68  personal_account_y_5       14713 non-null  uint8  \n",
            " 69  personal_account_y_6       14713 non-null  uint8  \n",
            " 70  personal_account_y_7       14713 non-null  uint8  \n",
            " 71  personal_account_y_8       14713 non-null  uint8  \n",
            " 72  personal_account_y_9       14713 non-null  uint8  \n",
            " 73  personal_account_y_10      14713 non-null  uint8  \n",
            " 74  personal_account_y_11      14713 non-null  uint8  \n",
            " 75  personal_account_y_12      14713 non-null  uint8  \n",
            " 76  personal_account_y_13      14713 non-null  uint8  \n",
            " 77  personal_account_y_14      14713 non-null  uint8  \n",
            " 78  pay_schedule_monthly       14713 non-null  uint8  \n",
            " 79  pay_schedule_semi-monthly  14713 non-null  uint8  \n",
            " 80  pay_schedule_weekly        14713 non-null  uint8  \n",
            "dtypes: float64(6), int64(8), uint8(67)\n",
            "memory usage: 3.1 MB\n"
          ]
        }
      ]
    },
    {
      "cell_type": "markdown",
      "source": [
        "# Подготовка данных к обучению\n"
      ],
      "metadata": {
        "id": "4loYm6EelR3s"
      }
    },
    {
      "cell_type": "code",
      "source": [
        "X = dummie_df.drop(['e_signed'],axis=1)\n",
        "y = dummie_df['e_signed']"
      ],
      "metadata": {
        "id": "Q5ZhDcExlQBf"
      },
      "execution_count": null,
      "outputs": []
    },
    {
      "cell_type": "code",
      "source": [
        "X_train, X_test, y_train, y_test = train_test_split(X,y,test_size=0.3)"
      ],
      "metadata": {
        "id": "927tT_oflY3y"
      },
      "execution_count": null,
      "outputs": []
    },
    {
      "cell_type": "markdown",
      "source": [
        "# Sklearn. Random Forest"
      ],
      "metadata": {
        "id": "Ge9lntBEiznR"
      }
    },
    {
      "cell_type": "code",
      "source": [
        "clf_rf = RandomForestClassifier(criterion ='gini') "
      ],
      "metadata": {
        "id": "svQziU-2fxT4"
      },
      "execution_count": null,
      "outputs": []
    },
    {
      "cell_type": "code",
      "source": [
        "params = { \n",
        "    'max_depth': range(1,100,15),\n",
        "    'n_estimators': [99],\n",
        "    }"
      ],
      "metadata": {
        "id": "fWVrijd-mNxU"
      },
      "execution_count": null,
      "outputs": []
    },
    {
      "cell_type": "code",
      "source": [
        "grid_forest = GridSearchCV(clf_rf,params,cv = 5)\n",
        "grid_forest.fit(X_train,y_train)\n",
        "best_clf_rf = grid_forest.best_estimator_\n"
      ],
      "metadata": {
        "id": "sF24GIKfmTvK"
      },
      "execution_count": null,
      "outputs": []
    },
    {
      "cell_type": "code",
      "source": [
        "best_clf_rf"
      ],
      "metadata": {
        "colab": {
          "base_uri": "https://localhost:8080/"
        },
        "id": "8E1mzk-LNWkF",
        "outputId": "8ce35571-57c0-4628-e823-471a72a3267e"
      },
      "execution_count": null,
      "outputs": [
        {
          "output_type": "execute_result",
          "data": {
            "text/plain": [
              "RandomForestClassifier(max_depth=46, n_estimators=99)"
            ]
          },
          "metadata": {},
          "execution_count": 134
        }
      ]
    },
    {
      "cell_type": "code",
      "source": [
        "clf_rf_preds = best_clf_rf.predict(X_test)"
      ],
      "metadata": {
        "id": "bHE5uff3mgfv"
      },
      "execution_count": null,
      "outputs": []
    },
    {
      "cell_type": "code",
      "source": [
        "rec = recall_score(y_test,clf_rf_preds)\n",
        "pre = precision_score(y_test,clf_rf_preds)\n",
        "f1 = f1_score(y_test,clf_rf_preds)\n",
        "print('recall = ',rec)\n",
        "print('precision = ',pre)\n",
        "print('f1 = ',f1)\n"
      ],
      "metadata": {
        "colab": {
          "base_uri": "https://localhost:8080/"
        },
        "id": "Q59cY6FtnyE5",
        "outputId": "1a73d244-fd83-41e9-e2ef-d6533c165a61"
      },
      "execution_count": null,
      "outputs": [
        {
          "output_type": "stream",
          "name": "stdout",
          "text": [
            "recall =  0.7081925675675675\n",
            "precision =  0.6206513693560326\n",
            "f1 =  0.6615384615384616\n"
          ]
        }
      ]
    },
    {
      "cell_type": "code",
      "source": [
        "plt.figure(figsize=(12,2))\n",
        "sns.heatmap(confusion_matrix(y_test,clf_rf_preds), annot=True,fmt='')"
      ],
      "metadata": {
        "colab": {
          "base_uri": "https://localhost:8080/",
          "height": 174
        },
        "id": "YSMIwrY1pChK",
        "outputId": "09405e05-8545-47dc-8067-57710c9d9b73"
      },
      "execution_count": null,
      "outputs": [
        {
          "output_type": "execute_result",
          "data": {
            "text/plain": [
              "<matplotlib.axes._subplots.AxesSubplot at 0x7f6811704810>"
            ]
          },
          "metadata": {},
          "execution_count": 137
        },
        {
          "output_type": "display_data",
          "data": {
            "text/plain": [
              "<Figure size 864x144 with 2 Axes>"
            ],
            "image/png": "[encoded data removed]"
          },
          "metadata": {
            "needs_background": "light"
          }
        }
      ]
    },
    {
      "cell_type": "markdown",
      "source": [
        "# Sklearn Градиентный бустинг"
      ],
      "metadata": {
        "id": "NC-o026vp3nG"
      }
    },
    {
      "cell_type": "code",
      "source": [
        "grd_boost_clf = GradientBoostingClassifier(max_depth =5)"
      ],
      "metadata": {
        "id": "6inZYkxNF3-A"
      },
      "execution_count": null,
      "outputs": []
    },
    {
      "cell_type": "code",
      "source": [
        "grd_boost_clf.fit(X_train,y_train)\n",
        "grd_rf_preds = grd_boost_clf.predict(X_test)"
      ],
      "metadata": {
        "id": "jeySsE-nMdPz"
      },
      "execution_count": null,
      "outputs": []
    },
    {
      "cell_type": "code",
      "source": [
        "rec = recall_score(y_test,grd_rf_preds)\n",
        "pre = precision_score(y_test,grd_rf_preds)\n",
        "f1 = f1_score(y_test,grd_rf_preds)\n",
        "print('recall = ',rec)\n",
        "print('precision = ',pre)\n",
        "print('f1 = ',f1)\n"
      ],
      "metadata": {
        "colab": {
          "base_uri": "https://localhost:8080/"
        },
        "id": "UmYcmI2JG8hV",
        "outputId": "7cf8e225-fe68-48be-c5fa-40671dd862b2"
      },
      "execution_count": null,
      "outputs": [
        {
          "output_type": "stream",
          "name": "stdout",
          "text": [
            "recall =  0.7136824324324325\n",
            "precision =  0.6327218270310745\n",
            "f1 =  0.6707680095256996\n"
          ]
        }
      ]
    },
    {
      "cell_type": "code",
      "source": [
        "plt.figure(figsize=(12,2))\n",
        "sns.heatmap(confusion_matrix(y_test,grd_rf_preds), annot=True,fmt='')"
      ],
      "metadata": {
        "colab": {
          "base_uri": "https://localhost:8080/",
          "height": 174
        },
        "id": "mrqw86VSKRXC",
        "outputId": "da0b9f16-6c32-4b0b-9093-9b085068fa00"
      },
      "execution_count": null,
      "outputs": [
        {
          "output_type": "execute_result",
          "data": {
            "text/plain": [
              "<matplotlib.axes._subplots.AxesSubplot at 0x7f6816382cd0>"
            ]
          },
          "metadata": {},
          "execution_count": 211
        },
        {
          "output_type": "display_data",
          "data": {
            "text/plain": [
              "<Figure size 864x144 with 2 Axes>"
            ],
            "image/png": "[encoded data removed]"
          },
          "metadata": {
            "needs_background": "light"
          }
        }
      ]
    },
    {
      "cell_type": "markdown",
      "source": [
        "# CatBoost"
      ],
      "metadata": {
        "id": "5GXNoSEdD31a"
      }
    },
    {
      "cell_type": "code",
      "source": [
        "cb_clf = CatBoostClassifier(iterations=500,depth=5,learning_rate=0.1)"
      ],
      "metadata": {
        "id": "JiettvaEKgOb"
      },
      "execution_count": null,
      "outputs": []
    },
    {
      "cell_type": "code",
      "source": [
        "cb_clf.fit(X_train, y_train)"
      ],
      "metadata": {
        "colab": {
          "base_uri": "https://localhost:8080/"
        },
        "id": "K1wMCfxMS50M",
        "outputId": "2f22ed26-fae7-4500-a378-5839980790bb"
      },
      "execution_count": null,
      "outputs": [
        {
          "output_type": "stream",
          "name": "stdout",
          "text": [
            "0:\tlearn: 0.6883403\ttotal: 51.9ms\tremaining: 25.9s\n",
            "1:\tlearn: 0.6823874\ttotal: 56.8ms\tremaining: 14.1s\n",
            "2:\tlearn: 0.6768821\ttotal: 61.7ms\tremaining: 10.2s\n",
            "3:\tlearn: 0.6738264\ttotal: 66.7ms\tremaining: 8.27s\n",
            "4:\tlearn: 0.6701222\ttotal: 72ms\tremaining: 7.13s\n",
            "5:\tlearn: 0.6672103\ttotal: 76.8ms\tremaining: 6.33s\n",
            "6:\tlearn: 0.6649411\ttotal: 82.1ms\tremaining: 5.78s\n",
            "7:\tlearn: 0.6615459\ttotal: 87.5ms\tremaining: 5.38s\n",
            "8:\tlearn: 0.6600355\ttotal: 92.6ms\tremaining: 5.05s\n",
            "9:\tlearn: 0.6578213\ttotal: 97.6ms\tremaining: 4.78s\n",
            "10:\tlearn: 0.6555049\ttotal: 103ms\tremaining: 4.57s\n",
            "11:\tlearn: 0.6539046\ttotal: 108ms\tremaining: 4.39s\n",
            "12:\tlearn: 0.6528944\ttotal: 113ms\tremaining: 4.24s\n",
            "13:\tlearn: 0.6516556\ttotal: 118ms\tremaining: 4.11s\n",
            "14:\tlearn: 0.6505457\ttotal: 124ms\tremaining: 3.99s\n",
            "15:\tlearn: 0.6485137\ttotal: 128ms\tremaining: 3.88s\n",
            "16:\tlearn: 0.6472909\ttotal: 134ms\tremaining: 3.8s\n",
            "17:\tlearn: 0.6466123\ttotal: 139ms\tremaining: 3.71s\n",
            "18:\tlearn: 0.6448716\ttotal: 144ms\tremaining: 3.65s\n",
            "19:\tlearn: 0.6430765\ttotal: 149ms\tremaining: 3.58s\n",
            "20:\tlearn: 0.6424451\ttotal: 154ms\tremaining: 3.52s\n",
            "21:\tlearn: 0.6414607\ttotal: 159ms\tremaining: 3.46s\n",
            "22:\tlearn: 0.6410750\ttotal: 165ms\tremaining: 3.41s\n",
            "23:\tlearn: 0.6405212\ttotal: 169ms\tremaining: 3.36s\n",
            "24:\tlearn: 0.6400619\ttotal: 175ms\tremaining: 3.33s\n",
            "25:\tlearn: 0.6390709\ttotal: 181ms\tremaining: 3.29s\n",
            "26:\tlearn: 0.6381755\ttotal: 185ms\tremaining: 3.25s\n",
            "27:\tlearn: 0.6370929\ttotal: 190ms\tremaining: 3.2s\n",
            "28:\tlearn: 0.6361999\ttotal: 195ms\tremaining: 3.17s\n",
            "29:\tlearn: 0.6357561\ttotal: 200ms\tremaining: 3.13s\n",
            "30:\tlearn: 0.6352276\ttotal: 205ms\tremaining: 3.1s\n",
            "31:\tlearn: 0.6345634\ttotal: 210ms\tremaining: 3.07s\n",
            "32:\tlearn: 0.6337955\ttotal: 215ms\tremaining: 3.04s\n",
            "33:\tlearn: 0.6332472\ttotal: 220ms\tremaining: 3.02s\n",
            "34:\tlearn: 0.6319862\ttotal: 225ms\tremaining: 2.99s\n",
            "35:\tlearn: 0.6315553\ttotal: 230ms\tremaining: 2.97s\n",
            "36:\tlearn: 0.6311278\ttotal: 235ms\tremaining: 2.94s\n",
            "37:\tlearn: 0.6308162\ttotal: 240ms\tremaining: 2.92s\n",
            "38:\tlearn: 0.6302784\ttotal: 245ms\tremaining: 2.9s\n",
            "39:\tlearn: 0.6299429\ttotal: 255ms\tremaining: 2.93s\n",
            "40:\tlearn: 0.6296091\ttotal: 260ms\tremaining: 2.91s\n",
            "41:\tlearn: 0.6292362\ttotal: 265ms\tremaining: 2.89s\n",
            "42:\tlearn: 0.6287112\ttotal: 270ms\tremaining: 2.87s\n",
            "43:\tlearn: 0.6284413\ttotal: 275ms\tremaining: 2.85s\n",
            "44:\tlearn: 0.6280898\ttotal: 280ms\tremaining: 2.83s\n",
            "45:\tlearn: 0.6278052\ttotal: 285ms\tremaining: 2.81s\n",
            "46:\tlearn: 0.6272846\ttotal: 290ms\tremaining: 2.8s\n",
            "47:\tlearn: 0.6269101\ttotal: 295ms\tremaining: 2.78s\n",
            "48:\tlearn: 0.6265642\ttotal: 300ms\tremaining: 2.76s\n",
            "49:\tlearn: 0.6260872\ttotal: 305ms\tremaining: 2.75s\n",
            "50:\tlearn: 0.6258378\ttotal: 310ms\tremaining: 2.73s\n",
            "51:\tlearn: 0.6248786\ttotal: 315ms\tremaining: 2.71s\n",
            "52:\tlearn: 0.6244738\ttotal: 320ms\tremaining: 2.7s\n",
            "53:\tlearn: 0.6242384\ttotal: 325ms\tremaining: 2.69s\n",
            "54:\tlearn: 0.6239379\ttotal: 330ms\tremaining: 2.67s\n",
            "55:\tlearn: 0.6233329\ttotal: 336ms\tremaining: 2.66s\n",
            "56:\tlearn: 0.6229518\ttotal: 340ms\tremaining: 2.65s\n",
            "57:\tlearn: 0.6223570\ttotal: 345ms\tremaining: 2.63s\n",
            "58:\tlearn: 0.6215721\ttotal: 350ms\tremaining: 2.62s\n",
            "59:\tlearn: 0.6212818\ttotal: 355ms\tremaining: 2.6s\n",
            "60:\tlearn: 0.6207511\ttotal: 361ms\tremaining: 2.59s\n",
            "61:\tlearn: 0.6202546\ttotal: 365ms\tremaining: 2.58s\n",
            "62:\tlearn: 0.6200110\ttotal: 370ms\tremaining: 2.57s\n",
            "63:\tlearn: 0.6196601\ttotal: 375ms\tremaining: 2.56s\n",
            "64:\tlearn: 0.6189781\ttotal: 380ms\tremaining: 2.55s\n",
            "65:\tlearn: 0.6182798\ttotal: 385ms\tremaining: 2.53s\n",
            "66:\tlearn: 0.6177554\ttotal: 391ms\tremaining: 2.52s\n",
            "67:\tlearn: 0.6173448\ttotal: 396ms\tremaining: 2.51s\n",
            "68:\tlearn: 0.6169937\ttotal: 401ms\tremaining: 2.5s\n",
            "69:\tlearn: 0.6164490\ttotal: 406ms\tremaining: 2.49s\n",
            "70:\tlearn: 0.6161073\ttotal: 411ms\tremaining: 2.48s\n",
            "71:\tlearn: 0.6156670\ttotal: 416ms\tremaining: 2.48s\n",
            "72:\tlearn: 0.6151431\ttotal: 423ms\tremaining: 2.47s\n",
            "73:\tlearn: 0.6147410\ttotal: 428ms\tremaining: 2.46s\n",
            "74:\tlearn: 0.6142152\ttotal: 433ms\tremaining: 2.45s\n",
            "75:\tlearn: 0.6139268\ttotal: 438ms\tremaining: 2.44s\n",
            "76:\tlearn: 0.6136138\ttotal: 443ms\tremaining: 2.43s\n",
            "77:\tlearn: 0.6133417\ttotal: 448ms\tremaining: 2.42s\n",
            "78:\tlearn: 0.6129986\ttotal: 457ms\tremaining: 2.43s\n",
            "79:\tlearn: 0.6127654\ttotal: 462ms\tremaining: 2.43s\n",
            "80:\tlearn: 0.6121843\ttotal: 467ms\tremaining: 2.42s\n",
            "81:\tlearn: 0.6118015\ttotal: 472ms\tremaining: 2.41s\n",
            "82:\tlearn: 0.6113383\ttotal: 478ms\tremaining: 2.4s\n",
            "83:\tlearn: 0.6107021\ttotal: 484ms\tremaining: 2.4s\n",
            "84:\tlearn: 0.6103757\ttotal: 489ms\tremaining: 2.39s\n",
            "85:\tlearn: 0.6100047\ttotal: 494ms\tremaining: 2.38s\n",
            "86:\tlearn: 0.6091867\ttotal: 499ms\tremaining: 2.37s\n",
            "87:\tlearn: 0.6087276\ttotal: 504ms\tremaining: 2.36s\n",
            "88:\tlearn: 0.6082268\ttotal: 509ms\tremaining: 2.35s\n",
            "89:\tlearn: 0.6079745\ttotal: 514ms\tremaining: 2.34s\n",
            "90:\tlearn: 0.6075623\ttotal: 520ms\tremaining: 2.33s\n",
            "91:\tlearn: 0.6070134\ttotal: 525ms\tremaining: 2.33s\n",
            "92:\tlearn: 0.6064835\ttotal: 530ms\tremaining: 2.32s\n",
            "93:\tlearn: 0.6060669\ttotal: 535ms\tremaining: 2.31s\n",
            "94:\tlearn: 0.6054300\ttotal: 539ms\tremaining: 2.3s\n",
            "95:\tlearn: 0.6045507\ttotal: 544ms\tremaining: 2.29s\n",
            "96:\tlearn: 0.6038134\ttotal: 552ms\tremaining: 2.29s\n",
            "97:\tlearn: 0.6032453\ttotal: 556ms\tremaining: 2.28s\n",
            "98:\tlearn: 0.6027821\ttotal: 561ms\tremaining: 2.27s\n",
            "99:\tlearn: 0.6023981\ttotal: 566ms\tremaining: 2.26s\n",
            "100:\tlearn: 0.6021334\ttotal: 571ms\tremaining: 2.25s\n",
            "101:\tlearn: 0.6015599\ttotal: 576ms\tremaining: 2.25s\n",
            "102:\tlearn: 0.6009471\ttotal: 581ms\tremaining: 2.24s\n",
            "103:\tlearn: 0.6006609\ttotal: 586ms\tremaining: 2.23s\n",
            "104:\tlearn: 0.6001435\ttotal: 591ms\tremaining: 2.22s\n",
            "105:\tlearn: 0.5997170\ttotal: 596ms\tremaining: 2.21s\n",
            "106:\tlearn: 0.5992252\ttotal: 601ms\tremaining: 2.21s\n",
            "107:\tlearn: 0.5985771\ttotal: 606ms\tremaining: 2.2s\n",
            "108:\tlearn: 0.5982326\ttotal: 611ms\tremaining: 2.19s\n",
            "109:\tlearn: 0.5976973\ttotal: 616ms\tremaining: 2.18s\n",
            "110:\tlearn: 0.5971608\ttotal: 621ms\tremaining: 2.18s\n",
            "111:\tlearn: 0.5966711\ttotal: 626ms\tremaining: 2.17s\n",
            "112:\tlearn: 0.5960704\ttotal: 631ms\tremaining: 2.16s\n",
            "113:\tlearn: 0.5954066\ttotal: 637ms\tremaining: 2.15s\n",
            "114:\tlearn: 0.5949999\ttotal: 642ms\tremaining: 2.15s\n",
            "115:\tlearn: 0.5944995\ttotal: 647ms\tremaining: 2.14s\n",
            "116:\tlearn: 0.5939922\ttotal: 665ms\tremaining: 2.18s\n",
            "117:\tlearn: 0.5934575\ttotal: 671ms\tremaining: 2.17s\n",
            "118:\tlearn: 0.5930863\ttotal: 676ms\tremaining: 2.16s\n",
            "119:\tlearn: 0.5926247\ttotal: 681ms\tremaining: 2.15s\n",
            "120:\tlearn: 0.5922571\ttotal: 686ms\tremaining: 2.15s\n",
            "121:\tlearn: 0.5918862\ttotal: 690ms\tremaining: 2.14s\n",
            "122:\tlearn: 0.5913670\ttotal: 695ms\tremaining: 2.13s\n",
            "123:\tlearn: 0.5909234\ttotal: 700ms\tremaining: 2.12s\n",
            "124:\tlearn: 0.5904487\ttotal: 705ms\tremaining: 2.12s\n",
            "125:\tlearn: 0.5898569\ttotal: 710ms\tremaining: 2.11s\n",
            "126:\tlearn: 0.5893571\ttotal: 715ms\tremaining: 2.1s\n",
            "127:\tlearn: 0.5890643\ttotal: 720ms\tremaining: 2.09s\n",
            "128:\tlearn: 0.5885811\ttotal: 725ms\tremaining: 2.08s\n",
            "129:\tlearn: 0.5880739\ttotal: 730ms\tremaining: 2.08s\n",
            "130:\tlearn: 0.5871939\ttotal: 735ms\tremaining: 2.07s\n",
            "131:\tlearn: 0.5865980\ttotal: 740ms\tremaining: 2.06s\n",
            "132:\tlearn: 0.5861658\ttotal: 745ms\tremaining: 2.06s\n",
            "133:\tlearn: 0.5856650\ttotal: 751ms\tremaining: 2.05s\n",
            "134:\tlearn: 0.5851009\ttotal: 756ms\tremaining: 2.04s\n",
            "135:\tlearn: 0.5845287\ttotal: 761ms\tremaining: 2.04s\n",
            "136:\tlearn: 0.5840967\ttotal: 766ms\tremaining: 2.03s\n",
            "137:\tlearn: 0.5836504\ttotal: 771ms\tremaining: 2.02s\n",
            "138:\tlearn: 0.5831433\ttotal: 776ms\tremaining: 2.01s\n",
            "139:\tlearn: 0.5826522\ttotal: 781ms\tremaining: 2.01s\n",
            "140:\tlearn: 0.5821740\ttotal: 786ms\tremaining: 2s\n",
            "141:\tlearn: 0.5816798\ttotal: 791ms\tremaining: 1.99s\n",
            "142:\tlearn: 0.5811553\ttotal: 796ms\tremaining: 1.99s\n",
            "143:\tlearn: 0.5807104\ttotal: 801ms\tremaining: 1.98s\n",
            "144:\tlearn: 0.5802892\ttotal: 806ms\tremaining: 1.97s\n",
            "145:\tlearn: 0.5798809\ttotal: 811ms\tremaining: 1.97s\n",
            "146:\tlearn: 0.5794076\ttotal: 817ms\tremaining: 1.96s\n",
            "147:\tlearn: 0.5791708\ttotal: 822ms\tremaining: 1.95s\n",
            "148:\tlearn: 0.5787145\ttotal: 827ms\tremaining: 1.95s\n",
            "149:\tlearn: 0.5782108\ttotal: 832ms\tremaining: 1.94s\n",
            "150:\tlearn: 0.5777015\ttotal: 838ms\tremaining: 1.94s\n",
            "151:\tlearn: 0.5773074\ttotal: 844ms\tremaining: 1.93s\n",
            "152:\tlearn: 0.5768695\ttotal: 849ms\tremaining: 1.93s\n",
            "153:\tlearn: 0.5765313\ttotal: 854ms\tremaining: 1.92s\n",
            "154:\tlearn: 0.5759330\ttotal: 860ms\tremaining: 1.91s\n",
            "155:\tlearn: 0.5754904\ttotal: 869ms\tremaining: 1.92s\n",
            "156:\tlearn: 0.5745868\ttotal: 875ms\tremaining: 1.91s\n",
            "157:\tlearn: 0.5741404\ttotal: 880ms\tremaining: 1.9s\n",
            "158:\tlearn: 0.5736558\ttotal: 885ms\tremaining: 1.9s\n",
            "159:\tlearn: 0.5731974\ttotal: 890ms\tremaining: 1.89s\n",
            "160:\tlearn: 0.5727598\ttotal: 895ms\tremaining: 1.88s\n",
            "161:\tlearn: 0.5723338\ttotal: 900ms\tremaining: 1.88s\n",
            "162:\tlearn: 0.5716642\ttotal: 905ms\tremaining: 1.87s\n",
            "163:\tlearn: 0.5713327\ttotal: 911ms\tremaining: 1.87s\n",
            "164:\tlearn: 0.5709049\ttotal: 916ms\tremaining: 1.86s\n",
            "165:\tlearn: 0.5703722\ttotal: 921ms\tremaining: 1.85s\n",
            "166:\tlearn: 0.5699656\ttotal: 926ms\tremaining: 1.85s\n",
            "167:\tlearn: 0.5694103\ttotal: 935ms\tremaining: 1.85s\n",
            "168:\tlearn: 0.5688846\ttotal: 947ms\tremaining: 1.85s\n",
            "169:\tlearn: 0.5683883\ttotal: 953ms\tremaining: 1.85s\n",
            "170:\tlearn: 0.5679589\ttotal: 958ms\tremaining: 1.84s\n",
            "171:\tlearn: 0.5676476\ttotal: 963ms\tremaining: 1.84s\n",
            "172:\tlearn: 0.5671503\ttotal: 968ms\tremaining: 1.83s\n",
            "173:\tlearn: 0.5667867\ttotal: 973ms\tremaining: 1.82s\n",
            "174:\tlearn: 0.5664026\ttotal: 978ms\tremaining: 1.82s\n",
            "175:\tlearn: 0.5663015\ttotal: 983ms\tremaining: 1.81s\n",
            "176:\tlearn: 0.5657266\ttotal: 988ms\tremaining: 1.8s\n",
            "177:\tlearn: 0.5652982\ttotal: 993ms\tremaining: 1.79s\n",
            "178:\tlearn: 0.5647585\ttotal: 998ms\tremaining: 1.79s\n",
            "179:\tlearn: 0.5643119\ttotal: 1s\tremaining: 1.78s\n",
            "180:\tlearn: 0.5638824\ttotal: 1.01s\tremaining: 1.78s\n",
            "181:\tlearn: 0.5632654\ttotal: 1.01s\tremaining: 1.77s\n",
            "182:\tlearn: 0.5627667\ttotal: 1.02s\tremaining: 1.76s\n",
            "183:\tlearn: 0.5623199\ttotal: 1.02s\tremaining: 1.76s\n",
            "184:\tlearn: 0.5618022\ttotal: 1.03s\tremaining: 1.75s\n",
            "185:\tlearn: 0.5613055\ttotal: 1.03s\tremaining: 1.75s\n",
            "186:\tlearn: 0.5606946\ttotal: 1.04s\tremaining: 1.74s\n",
            "187:\tlearn: 0.5602761\ttotal: 1.04s\tremaining: 1.73s\n",
            "188:\tlearn: 0.5597677\ttotal: 1.05s\tremaining: 1.73s\n",
            "189:\tlearn: 0.5592592\ttotal: 1.05s\tremaining: 1.72s\n",
            "190:\tlearn: 0.5589422\ttotal: 1.06s\tremaining: 1.71s\n",
            "191:\tlearn: 0.5585400\ttotal: 1.06s\tremaining: 1.71s\n",
            "192:\tlearn: 0.5582275\ttotal: 1.07s\tremaining: 1.71s\n",
            "193:\tlearn: 0.5577547\ttotal: 1.08s\tremaining: 1.71s\n",
            "194:\tlearn: 0.5572994\ttotal: 1.09s\tremaining: 1.7s\n",
            "195:\tlearn: 0.5569349\ttotal: 1.09s\tremaining: 1.7s\n",
            "196:\tlearn: 0.5564224\ttotal: 1.1s\tremaining: 1.69s\n",
            "197:\tlearn: 0.5559758\ttotal: 1.1s\tremaining: 1.68s\n",
            "198:\tlearn: 0.5556865\ttotal: 1.11s\tremaining: 1.68s\n",
            "199:\tlearn: 0.5552854\ttotal: 1.11s\tremaining: 1.67s\n",
            "200:\tlearn: 0.5548834\ttotal: 1.12s\tremaining: 1.66s\n",
            "201:\tlearn: 0.5545885\ttotal: 1.12s\tremaining: 1.66s\n",
            "202:\tlearn: 0.5540942\ttotal: 1.13s\tremaining: 1.65s\n",
            "203:\tlearn: 0.5536041\ttotal: 1.13s\tremaining: 1.65s\n",
            "204:\tlearn: 0.5533725\ttotal: 1.14s\tremaining: 1.64s\n",
            "205:\tlearn: 0.5528348\ttotal: 1.14s\tremaining: 1.63s\n",
            "206:\tlearn: 0.5522766\ttotal: 1.15s\tremaining: 1.63s\n",
            "207:\tlearn: 0.5519106\ttotal: 1.15s\tremaining: 1.62s\n",
            "208:\tlearn: 0.5515872\ttotal: 1.16s\tremaining: 1.61s\n",
            "209:\tlearn: 0.5511467\ttotal: 1.16s\tremaining: 1.61s\n",
            "210:\tlearn: 0.5508815\ttotal: 1.17s\tremaining: 1.6s\n",
            "211:\tlearn: 0.5505322\ttotal: 1.17s\tremaining: 1.59s\n",
            "212:\tlearn: 0.5502154\ttotal: 1.18s\tremaining: 1.59s\n",
            "213:\tlearn: 0.5496711\ttotal: 1.18s\tremaining: 1.58s\n",
            "214:\tlearn: 0.5491476\ttotal: 1.19s\tremaining: 1.58s\n",
            "215:\tlearn: 0.5486621\ttotal: 1.19s\tremaining: 1.57s\n",
            "216:\tlearn: 0.5481413\ttotal: 1.2s\tremaining: 1.56s\n",
            "217:\tlearn: 0.5476164\ttotal: 1.2s\tremaining: 1.56s\n",
            "218:\tlearn: 0.5474143\ttotal: 1.21s\tremaining: 1.55s\n",
            "219:\tlearn: 0.5470160\ttotal: 1.22s\tremaining: 1.55s\n",
            "220:\tlearn: 0.5467320\ttotal: 1.22s\tremaining: 1.54s\n",
            "221:\tlearn: 0.5463729\ttotal: 1.23s\tremaining: 1.54s\n",
            "222:\tlearn: 0.5458761\ttotal: 1.23s\tremaining: 1.53s\n",
            "223:\tlearn: 0.5456079\ttotal: 1.24s\tremaining: 1.52s\n",
            "224:\tlearn: 0.5453042\ttotal: 1.24s\tremaining: 1.52s\n",
            "225:\tlearn: 0.5448108\ttotal: 1.25s\tremaining: 1.51s\n",
            "226:\tlearn: 0.5444146\ttotal: 1.25s\tremaining: 1.51s\n",
            "227:\tlearn: 0.5439742\ttotal: 1.26s\tremaining: 1.5s\n",
            "228:\tlearn: 0.5435466\ttotal: 1.26s\tremaining: 1.49s\n",
            "229:\tlearn: 0.5431400\ttotal: 1.27s\tremaining: 1.49s\n",
            "230:\tlearn: 0.5426694\ttotal: 1.27s\tremaining: 1.48s\n",
            "231:\tlearn: 0.5423257\ttotal: 1.28s\tremaining: 1.48s\n",
            "232:\tlearn: 0.5418876\ttotal: 1.28s\tremaining: 1.47s\n",
            "233:\tlearn: 0.5414749\ttotal: 1.29s\tremaining: 1.47s\n",
            "234:\tlearn: 0.5410889\ttotal: 1.29s\tremaining: 1.46s\n",
            "235:\tlearn: 0.5407309\ttotal: 1.3s\tremaining: 1.45s\n",
            "236:\tlearn: 0.5404566\ttotal: 1.3s\tremaining: 1.45s\n",
            "237:\tlearn: 0.5400653\ttotal: 1.31s\tremaining: 1.44s\n",
            "238:\tlearn: 0.5396706\ttotal: 1.31s\tremaining: 1.43s\n",
            "239:\tlearn: 0.5392548\ttotal: 1.32s\tremaining: 1.43s\n",
            "240:\tlearn: 0.5389159\ttotal: 1.33s\tremaining: 1.43s\n",
            "241:\tlearn: 0.5385847\ttotal: 1.33s\tremaining: 1.42s\n",
            "242:\tlearn: 0.5382770\ttotal: 1.34s\tremaining: 1.42s\n",
            "243:\tlearn: 0.5380046\ttotal: 1.34s\tremaining: 1.41s\n",
            "244:\tlearn: 0.5374681\ttotal: 1.35s\tremaining: 1.4s\n",
            "245:\tlearn: 0.5371206\ttotal: 1.35s\tremaining: 1.4s\n",
            "246:\tlearn: 0.5367047\ttotal: 1.36s\tremaining: 1.39s\n",
            "247:\tlearn: 0.5365272\ttotal: 1.36s\tremaining: 1.38s\n",
            "248:\tlearn: 0.5361461\ttotal: 1.37s\tremaining: 1.38s\n",
            "249:\tlearn: 0.5357152\ttotal: 1.37s\tremaining: 1.37s\n",
            "250:\tlearn: 0.5353655\ttotal: 1.38s\tremaining: 1.37s\n",
            "251:\tlearn: 0.5350757\ttotal: 1.38s\tremaining: 1.36s\n",
            "252:\tlearn: 0.5347171\ttotal: 1.39s\tremaining: 1.35s\n",
            "253:\tlearn: 0.5344962\ttotal: 1.39s\tremaining: 1.35s\n",
            "254:\tlearn: 0.5341295\ttotal: 1.4s\tremaining: 1.34s\n",
            "255:\tlearn: 0.5337824\ttotal: 1.4s\tremaining: 1.34s\n",
            "256:\tlearn: 0.5333722\ttotal: 1.41s\tremaining: 1.33s\n",
            "257:\tlearn: 0.5329767\ttotal: 1.41s\tremaining: 1.32s\n",
            "258:\tlearn: 0.5326516\ttotal: 1.42s\tremaining: 1.32s\n",
            "259:\tlearn: 0.5323958\ttotal: 1.42s\tremaining: 1.31s\n",
            "260:\tlearn: 0.5319807\ttotal: 1.43s\tremaining: 1.31s\n",
            "261:\tlearn: 0.5315373\ttotal: 1.43s\tremaining: 1.3s\n",
            "262:\tlearn: 0.5312465\ttotal: 1.44s\tremaining: 1.29s\n",
            "263:\tlearn: 0.5310352\ttotal: 1.44s\tremaining: 1.29s\n",
            "264:\tlearn: 0.5306414\ttotal: 1.45s\tremaining: 1.28s\n",
            "265:\tlearn: 0.5302867\ttotal: 1.45s\tremaining: 1.28s\n",
            "266:\tlearn: 0.5299477\ttotal: 1.46s\tremaining: 1.27s\n",
            "267:\tlearn: 0.5296163\ttotal: 1.46s\tremaining: 1.27s\n",
            "268:\tlearn: 0.5293257\ttotal: 1.47s\tremaining: 1.26s\n",
            "269:\tlearn: 0.5289429\ttotal: 1.48s\tremaining: 1.26s\n",
            "270:\tlearn: 0.5284679\ttotal: 1.48s\tremaining: 1.25s\n",
            "271:\tlearn: 0.5281110\ttotal: 1.49s\tremaining: 1.25s\n",
            "272:\tlearn: 0.5277500\ttotal: 1.5s\tremaining: 1.24s\n",
            "273:\tlearn: 0.5273410\ttotal: 1.5s\tremaining: 1.24s\n",
            "274:\tlearn: 0.5270435\ttotal: 1.5s\tremaining: 1.23s\n",
            "275:\tlearn: 0.5268978\ttotal: 1.51s\tremaining: 1.23s\n",
            "276:\tlearn: 0.5264776\ttotal: 1.51s\tremaining: 1.22s\n",
            "277:\tlearn: 0.5261025\ttotal: 1.52s\tremaining: 1.21s\n",
            "278:\tlearn: 0.5257011\ttotal: 1.52s\tremaining: 1.21s\n",
            "279:\tlearn: 0.5253132\ttotal: 1.53s\tremaining: 1.2s\n",
            "280:\tlearn: 0.5250597\ttotal: 1.53s\tremaining: 1.2s\n",
            "281:\tlearn: 0.5246636\ttotal: 1.54s\tremaining: 1.19s\n",
            "282:\tlearn: 0.5243860\ttotal: 1.54s\tremaining: 1.18s\n",
            "283:\tlearn: 0.5239889\ttotal: 1.55s\tremaining: 1.18s\n",
            "284:\tlearn: 0.5237937\ttotal: 1.55s\tremaining: 1.17s\n",
            "285:\tlearn: 0.5236782\ttotal: 1.56s\tremaining: 1.17s\n",
            "286:\tlearn: 0.5232752\ttotal: 1.56s\tremaining: 1.16s\n",
            "287:\tlearn: 0.5229146\ttotal: 1.57s\tremaining: 1.15s\n",
            "288:\tlearn: 0.5226501\ttotal: 1.57s\tremaining: 1.15s\n",
            "289:\tlearn: 0.5223943\ttotal: 1.58s\tremaining: 1.14s\n",
            "290:\tlearn: 0.5219138\ttotal: 1.58s\tremaining: 1.14s\n",
            "291:\tlearn: 0.5215294\ttotal: 1.59s\tremaining: 1.13s\n",
            "292:\tlearn: 0.5211867\ttotal: 1.59s\tremaining: 1.13s\n",
            "293:\tlearn: 0.5208662\ttotal: 1.6s\tremaining: 1.12s\n",
            "294:\tlearn: 0.5205250\ttotal: 1.6s\tremaining: 1.11s\n",
            "295:\tlearn: 0.5201255\ttotal: 1.61s\tremaining: 1.11s\n",
            "296:\tlearn: 0.5197748\ttotal: 1.61s\tremaining: 1.1s\n",
            "297:\tlearn: 0.5192670\ttotal: 1.62s\tremaining: 1.1s\n",
            "298:\tlearn: 0.5187685\ttotal: 1.63s\tremaining: 1.09s\n",
            "299:\tlearn: 0.5184788\ttotal: 1.63s\tremaining: 1.09s\n",
            "300:\tlearn: 0.5181983\ttotal: 1.64s\tremaining: 1.08s\n",
            "301:\tlearn: 0.5179249\ttotal: 1.64s\tremaining: 1.07s\n",
            "302:\tlearn: 0.5175795\ttotal: 1.65s\tremaining: 1.07s\n",
            "303:\tlearn: 0.5173697\ttotal: 1.66s\tremaining: 1.07s\n",
            "304:\tlearn: 0.5170650\ttotal: 1.66s\tremaining: 1.06s\n",
            "305:\tlearn: 0.5167710\ttotal: 1.67s\tremaining: 1.06s\n",
            "306:\tlearn: 0.5163294\ttotal: 1.68s\tremaining: 1.05s\n",
            "307:\tlearn: 0.5160558\ttotal: 1.68s\tremaining: 1.05s\n",
            "308:\tlearn: 0.5157118\ttotal: 1.69s\tremaining: 1.04s\n",
            "309:\tlearn: 0.5154052\ttotal: 1.69s\tremaining: 1.04s\n",
            "310:\tlearn: 0.5149504\ttotal: 1.7s\tremaining: 1.03s\n",
            "311:\tlearn: 0.5145477\ttotal: 1.7s\tremaining: 1.02s\n",
            "312:\tlearn: 0.5142658\ttotal: 1.71s\tremaining: 1.02s\n",
            "313:\tlearn: 0.5139412\ttotal: 1.71s\tremaining: 1.01s\n",
            "314:\tlearn: 0.5135948\ttotal: 1.72s\tremaining: 1.01s\n",
            "315:\tlearn: 0.5133362\ttotal: 1.72s\tremaining: 1s\n",
            "316:\tlearn: 0.5129524\ttotal: 1.73s\tremaining: 997ms\n",
            "317:\tlearn: 0.5126155\ttotal: 1.73s\tremaining: 991ms\n",
            "318:\tlearn: 0.5121605\ttotal: 1.74s\tremaining: 986ms\n",
            "319:\tlearn: 0.5118225\ttotal: 1.74s\tremaining: 981ms\n",
            "320:\tlearn: 0.5115588\ttotal: 1.75s\tremaining: 976ms\n",
            "321:\tlearn: 0.5113192\ttotal: 1.75s\tremaining: 970ms\n",
            "322:\tlearn: 0.5110233\ttotal: 1.76s\tremaining: 964ms\n",
            "323:\tlearn: 0.5105875\ttotal: 1.76s\tremaining: 959ms\n",
            "324:\tlearn: 0.5103391\ttotal: 1.77s\tremaining: 953ms\n",
            "325:\tlearn: 0.5100280\ttotal: 1.77s\tremaining: 947ms\n",
            "326:\tlearn: 0.5096491\ttotal: 1.78s\tremaining: 941ms\n",
            "327:\tlearn: 0.5094076\ttotal: 1.78s\tremaining: 936ms\n",
            "328:\tlearn: 0.5090004\ttotal: 1.79s\tremaining: 930ms\n",
            "329:\tlearn: 0.5086727\ttotal: 1.79s\tremaining: 924ms\n",
            "330:\tlearn: 0.5082493\ttotal: 1.8s\tremaining: 919ms\n",
            "331:\tlearn: 0.5080882\ttotal: 1.8s\tremaining: 913ms\n",
            "332:\tlearn: 0.5076074\ttotal: 1.81s\tremaining: 907ms\n",
            "333:\tlearn: 0.5072736\ttotal: 1.81s\tremaining: 902ms\n",
            "334:\tlearn: 0.5068940\ttotal: 1.82s\tremaining: 896ms\n",
            "335:\tlearn: 0.5064749\ttotal: 1.82s\tremaining: 891ms\n",
            "336:\tlearn: 0.5061359\ttotal: 1.83s\tremaining: 885ms\n",
            "337:\tlearn: 0.5058203\ttotal: 1.83s\tremaining: 879ms\n",
            "338:\tlearn: 0.5054870\ttotal: 1.84s\tremaining: 874ms\n",
            "339:\tlearn: 0.5051780\ttotal: 1.84s\tremaining: 868ms\n",
            "340:\tlearn: 0.5047184\ttotal: 1.85s\tremaining: 863ms\n",
            "341:\tlearn: 0.5044603\ttotal: 1.85s\tremaining: 857ms\n",
            "342:\tlearn: 0.5043122\ttotal: 1.86s\tremaining: 851ms\n",
            "343:\tlearn: 0.5039264\ttotal: 1.86s\tremaining: 846ms\n",
            "344:\tlearn: 0.5037554\ttotal: 1.88s\tremaining: 843ms\n",
            "345:\tlearn: 0.5034589\ttotal: 1.88s\tremaining: 837ms\n",
            "346:\tlearn: 0.5030654\ttotal: 1.89s\tremaining: 831ms\n",
            "347:\tlearn: 0.5027178\ttotal: 1.89s\tremaining: 826ms\n",
            "348:\tlearn: 0.5024411\ttotal: 1.9s\tremaining: 820ms\n",
            "349:\tlearn: 0.5021149\ttotal: 1.9s\tremaining: 814ms\n",
            "350:\tlearn: 0.5019169\ttotal: 1.91s\tremaining: 809ms\n",
            "351:\tlearn: 0.5015625\ttotal: 1.91s\tremaining: 803ms\n",
            "352:\tlearn: 0.5013709\ttotal: 1.92s\tremaining: 800ms\n",
            "353:\tlearn: 0.5011014\ttotal: 1.93s\tremaining: 797ms\n",
            "354:\tlearn: 0.5007220\ttotal: 1.94s\tremaining: 791ms\n",
            "355:\tlearn: 0.5003570\ttotal: 1.94s\tremaining: 786ms\n",
            "356:\tlearn: 0.4999674\ttotal: 1.95s\tremaining: 782ms\n",
            "357:\tlearn: 0.4995471\ttotal: 1.96s\tremaining: 776ms\n",
            "358:\tlearn: 0.4991996\ttotal: 1.96s\tremaining: 770ms\n",
            "359:\tlearn: 0.4989781\ttotal: 1.97s\tremaining: 765ms\n",
            "360:\tlearn: 0.4987875\ttotal: 1.97s\tremaining: 759ms\n",
            "361:\tlearn: 0.4984767\ttotal: 1.98s\tremaining: 754ms\n",
            "362:\tlearn: 0.4981118\ttotal: 1.98s\tremaining: 748ms\n",
            "363:\tlearn: 0.4978818\ttotal: 1.99s\tremaining: 743ms\n",
            "364:\tlearn: 0.4975340\ttotal: 1.99s\tremaining: 737ms\n",
            "365:\tlearn: 0.4972034\ttotal: 2s\tremaining: 731ms\n",
            "366:\tlearn: 0.4969170\ttotal: 2s\tremaining: 726ms\n",
            "367:\tlearn: 0.4965002\ttotal: 2.01s\tremaining: 720ms\n",
            "368:\tlearn: 0.4960044\ttotal: 2.01s\tremaining: 715ms\n",
            "369:\tlearn: 0.4957380\ttotal: 2.02s\tremaining: 709ms\n",
            "370:\tlearn: 0.4954917\ttotal: 2.02s\tremaining: 703ms\n",
            "371:\tlearn: 0.4951278\ttotal: 2.03s\tremaining: 698ms\n",
            "372:\tlearn: 0.4948172\ttotal: 2.03s\tremaining: 692ms\n",
            "373:\tlearn: 0.4946283\ttotal: 2.04s\tremaining: 687ms\n",
            "374:\tlearn: 0.4944142\ttotal: 2.04s\tremaining: 681ms\n",
            "375:\tlearn: 0.4941244\ttotal: 2.05s\tremaining: 675ms\n",
            "376:\tlearn: 0.4938464\ttotal: 2.05s\tremaining: 670ms\n",
            "377:\tlearn: 0.4935637\ttotal: 2.06s\tremaining: 664ms\n",
            "378:\tlearn: 0.4932822\ttotal: 2.06s\tremaining: 659ms\n",
            "379:\tlearn: 0.4931003\ttotal: 2.07s\tremaining: 653ms\n",
            "380:\tlearn: 0.4927152\ttotal: 2.08s\tremaining: 649ms\n",
            "381:\tlearn: 0.4923934\ttotal: 2.08s\tremaining: 643ms\n",
            "382:\tlearn: 0.4921225\ttotal: 2.09s\tremaining: 638ms\n",
            "383:\tlearn: 0.4918488\ttotal: 2.09s\tremaining: 632ms\n",
            "384:\tlearn: 0.4915568\ttotal: 2.1s\tremaining: 627ms\n",
            "385:\tlearn: 0.4912580\ttotal: 2.1s\tremaining: 621ms\n",
            "386:\tlearn: 0.4910084\ttotal: 2.11s\tremaining: 616ms\n",
            "387:\tlearn: 0.4905266\ttotal: 2.11s\tremaining: 611ms\n",
            "388:\tlearn: 0.4900813\ttotal: 2.12s\tremaining: 605ms\n",
            "389:\tlearn: 0.4896889\ttotal: 2.13s\tremaining: 600ms\n",
            "390:\tlearn: 0.4892788\ttotal: 2.13s\tremaining: 594ms\n",
            "391:\tlearn: 0.4889747\ttotal: 2.14s\tremaining: 589ms\n",
            "392:\tlearn: 0.4887358\ttotal: 2.14s\tremaining: 583ms\n",
            "393:\tlearn: 0.4883103\ttotal: 2.15s\tremaining: 578ms\n",
            "394:\tlearn: 0.4880467\ttotal: 2.15s\tremaining: 572ms\n",
            "395:\tlearn: 0.4876202\ttotal: 2.16s\tremaining: 566ms\n",
            "396:\tlearn: 0.4872656\ttotal: 2.16s\tremaining: 561ms\n",
            "397:\tlearn: 0.4869296\ttotal: 2.17s\tremaining: 555ms\n",
            "398:\tlearn: 0.4866588\ttotal: 2.17s\tremaining: 550ms\n",
            "399:\tlearn: 0.4864726\ttotal: 2.18s\tremaining: 544ms\n",
            "400:\tlearn: 0.4860749\ttotal: 2.18s\tremaining: 539ms\n",
            "401:\tlearn: 0.4858571\ttotal: 2.19s\tremaining: 534ms\n",
            "402:\tlearn: 0.4856073\ttotal: 2.19s\tremaining: 528ms\n",
            "403:\tlearn: 0.4852398\ttotal: 2.2s\tremaining: 523ms\n",
            "404:\tlearn: 0.4849635\ttotal: 2.21s\tremaining: 517ms\n",
            "405:\tlearn: 0.4847203\ttotal: 2.21s\tremaining: 512ms\n",
            "406:\tlearn: 0.4841985\ttotal: 2.21s\tremaining: 506ms\n",
            "407:\tlearn: 0.4838824\ttotal: 2.22s\tremaining: 501ms\n",
            "408:\tlearn: 0.4836319\ttotal: 2.23s\tremaining: 495ms\n",
            "409:\tlearn: 0.4833153\ttotal: 2.23s\tremaining: 490ms\n",
            "410:\tlearn: 0.4830980\ttotal: 2.23s\tremaining: 484ms\n",
            "411:\tlearn: 0.4828126\ttotal: 2.24s\tremaining: 479ms\n",
            "412:\tlearn: 0.4824411\ttotal: 2.25s\tremaining: 473ms\n",
            "413:\tlearn: 0.4821470\ttotal: 2.25s\tremaining: 468ms\n",
            "414:\tlearn: 0.4817590\ttotal: 2.25s\tremaining: 462ms\n",
            "415:\tlearn: 0.4815496\ttotal: 2.26s\tremaining: 456ms\n",
            "416:\tlearn: 0.4811472\ttotal: 2.27s\tremaining: 451ms\n",
            "417:\tlearn: 0.4807600\ttotal: 2.27s\tremaining: 445ms\n",
            "418:\tlearn: 0.4804455\ttotal: 2.28s\tremaining: 441ms\n",
            "419:\tlearn: 0.4801422\ttotal: 2.29s\tremaining: 436ms\n",
            "420:\tlearn: 0.4797903\ttotal: 2.29s\tremaining: 430ms\n",
            "421:\tlearn: 0.4794419\ttotal: 2.3s\tremaining: 425ms\n",
            "422:\tlearn: 0.4790719\ttotal: 2.3s\tremaining: 419ms\n",
            "423:\tlearn: 0.4787604\ttotal: 2.31s\tremaining: 414ms\n",
            "424:\tlearn: 0.4782653\ttotal: 2.31s\tremaining: 408ms\n",
            "425:\tlearn: 0.4778741\ttotal: 2.32s\tremaining: 403ms\n",
            "426:\tlearn: 0.4776375\ttotal: 2.32s\tremaining: 397ms\n",
            "427:\tlearn: 0.4774076\ttotal: 2.33s\tremaining: 391ms\n",
            "428:\tlearn: 0.4771452\ttotal: 2.33s\tremaining: 386ms\n",
            "429:\tlearn: 0.4768875\ttotal: 2.34s\tremaining: 380ms\n",
            "430:\tlearn: 0.4765064\ttotal: 2.34s\tremaining: 375ms\n",
            "431:\tlearn: 0.4761694\ttotal: 2.35s\tremaining: 370ms\n",
            "432:\tlearn: 0.4758483\ttotal: 2.35s\tremaining: 364ms\n",
            "433:\tlearn: 0.4755694\ttotal: 2.36s\tremaining: 358ms\n",
            "434:\tlearn: 0.4753593\ttotal: 2.36s\tremaining: 353ms\n",
            "435:\tlearn: 0.4751507\ttotal: 2.37s\tremaining: 347ms\n",
            "436:\tlearn: 0.4749743\ttotal: 2.37s\tremaining: 342ms\n",
            "437:\tlearn: 0.4747283\ttotal: 2.38s\tremaining: 337ms\n",
            "438:\tlearn: 0.4744936\ttotal: 2.38s\tremaining: 331ms\n",
            "439:\tlearn: 0.4742690\ttotal: 2.39s\tremaining: 326ms\n",
            "440:\tlearn: 0.4739224\ttotal: 2.39s\tremaining: 320ms\n",
            "441:\tlearn: 0.4736298\ttotal: 2.4s\tremaining: 315ms\n",
            "442:\tlearn: 0.4734764\ttotal: 2.4s\tremaining: 309ms\n",
            "443:\tlearn: 0.4732176\ttotal: 2.41s\tremaining: 304ms\n",
            "444:\tlearn: 0.4728120\ttotal: 2.41s\tremaining: 298ms\n",
            "445:\tlearn: 0.4726262\ttotal: 2.42s\tremaining: 293ms\n",
            "446:\tlearn: 0.4722236\ttotal: 2.42s\tremaining: 287ms\n",
            "447:\tlearn: 0.4718764\ttotal: 2.43s\tremaining: 282ms\n",
            "448:\tlearn: 0.4717490\ttotal: 2.43s\tremaining: 277ms\n",
            "449:\tlearn: 0.4714275\ttotal: 2.44s\tremaining: 271ms\n",
            "450:\tlearn: 0.4712403\ttotal: 2.44s\tremaining: 266ms\n",
            "451:\tlearn: 0.4709315\ttotal: 2.45s\tremaining: 260ms\n",
            "452:\tlearn: 0.4706609\ttotal: 2.46s\tremaining: 255ms\n",
            "453:\tlearn: 0.4703753\ttotal: 2.46s\tremaining: 250ms\n",
            "454:\tlearn: 0.4700217\ttotal: 2.47s\tremaining: 244ms\n",
            "455:\tlearn: 0.4697932\ttotal: 2.47s\tremaining: 239ms\n",
            "456:\tlearn: 0.4695102\ttotal: 2.48s\tremaining: 234ms\n",
            "457:\tlearn: 0.4692740\ttotal: 2.49s\tremaining: 228ms\n",
            "458:\tlearn: 0.4690220\ttotal: 2.49s\tremaining: 223ms\n",
            "459:\tlearn: 0.4686458\ttotal: 2.5s\tremaining: 217ms\n",
            "460:\tlearn: 0.4682527\ttotal: 2.5s\tremaining: 212ms\n",
            "461:\tlearn: 0.4679333\ttotal: 2.51s\tremaining: 206ms\n",
            "462:\tlearn: 0.4677868\ttotal: 2.51s\tremaining: 201ms\n",
            "463:\tlearn: 0.4673430\ttotal: 2.52s\tremaining: 195ms\n",
            "464:\tlearn: 0.4670272\ttotal: 2.52s\tremaining: 190ms\n",
            "465:\tlearn: 0.4668096\ttotal: 2.53s\tremaining: 184ms\n",
            "466:\tlearn: 0.4666064\ttotal: 2.53s\tremaining: 179ms\n",
            "467:\tlearn: 0.4662719\ttotal: 2.54s\tremaining: 174ms\n",
            "468:\tlearn: 0.4660339\ttotal: 2.54s\tremaining: 168ms\n",
            "469:\tlearn: 0.4657701\ttotal: 2.55s\tremaining: 163ms\n",
            "470:\tlearn: 0.4655292\ttotal: 2.55s\tremaining: 157ms\n",
            "471:\tlearn: 0.4653075\ttotal: 2.56s\tremaining: 152ms\n",
            "472:\tlearn: 0.4649590\ttotal: 2.56s\tremaining: 146ms\n",
            "473:\tlearn: 0.4647110\ttotal: 2.57s\tremaining: 141ms\n",
            "474:\tlearn: 0.4644735\ttotal: 2.57s\tremaining: 135ms\n",
            "475:\tlearn: 0.4641932\ttotal: 2.58s\tremaining: 130ms\n",
            "476:\tlearn: 0.4639444\ttotal: 2.58s\tremaining: 125ms\n",
            "477:\tlearn: 0.4635742\ttotal: 2.59s\tremaining: 119ms\n",
            "478:\tlearn: 0.4633537\ttotal: 2.59s\tremaining: 114ms\n",
            "479:\tlearn: 0.4629800\ttotal: 2.6s\tremaining: 108ms\n",
            "480:\tlearn: 0.4627775\ttotal: 2.6s\tremaining: 103ms\n",
            "481:\tlearn: 0.4626210\ttotal: 2.61s\tremaining: 97.4ms\n",
            "482:\tlearn: 0.4623979\ttotal: 2.61s\tremaining: 92ms\n",
            "483:\tlearn: 0.4622114\ttotal: 2.62s\tremaining: 86.6ms\n",
            "484:\tlearn: 0.4619384\ttotal: 2.62s\tremaining: 81.1ms\n",
            "485:\tlearn: 0.4616060\ttotal: 2.63s\tremaining: 75.7ms\n",
            "486:\tlearn: 0.4614758\ttotal: 2.63s\tremaining: 70.3ms\n",
            "487:\tlearn: 0.4611582\ttotal: 2.64s\tremaining: 64.9ms\n",
            "488:\tlearn: 0.4609394\ttotal: 2.64s\tremaining: 59.5ms\n",
            "489:\tlearn: 0.4606599\ttotal: 2.65s\tremaining: 54ms\n",
            "490:\tlearn: 0.4604239\ttotal: 2.65s\tremaining: 48.6ms\n",
            "491:\tlearn: 0.4601327\ttotal: 2.66s\tremaining: 43.2ms\n",
            "492:\tlearn: 0.4598329\ttotal: 2.66s\tremaining: 37.8ms\n",
            "493:\tlearn: 0.4595079\ttotal: 2.67s\tremaining: 32.4ms\n",
            "494:\tlearn: 0.4592669\ttotal: 2.67s\tremaining: 27ms\n",
            "495:\tlearn: 0.4589153\ttotal: 2.68s\tremaining: 21.6ms\n",
            "496:\tlearn: 0.4586318\ttotal: 2.7s\tremaining: 16.3ms\n",
            "497:\tlearn: 0.4583402\ttotal: 2.7s\tremaining: 10.8ms\n",
            "498:\tlearn: 0.4579072\ttotal: 2.71s\tremaining: 5.42ms\n",
            "499:\tlearn: 0.4575882\ttotal: 2.71s\tremaining: 0us\n"
          ]
        },
        {
          "output_type": "execute_result",
          "data": {
            "text/plain": [
              "<catboost.core.CatBoostClassifier at 0x7f681732cb90>"
            ]
          },
          "metadata": {},
          "execution_count": 142
        }
      ]
    },
    {
      "cell_type": "code",
      "source": [
        "cb_preds = cb_clf.predict(X_test)"
      ],
      "metadata": {
        "id": "hPeoLNz9JbZK"
      },
      "execution_count": null,
      "outputs": []
    },
    {
      "cell_type": "code",
      "source": [
        "rec = recall_score(y_test,cb_preds)\n",
        "pre = precision_score(y_test,cb_preds)\n",
        "f1 = f1_score(y_test,cb_preds)\n",
        "print('recall = ',rec)\n",
        "print('precision = ',pre)\n",
        "print('f1 = ',f1)"
      ],
      "metadata": {
        "colab": {
          "base_uri": "https://localhost:8080/"
        },
        "id": "zcUyZcOATCpy",
        "outputId": "81fa29ca-551e-4623-c864-a3b4ab448108"
      },
      "execution_count": null,
      "outputs": [
        {
          "output_type": "stream",
          "name": "stdout",
          "text": [
            "recall =  0.7018581081081081\n",
            "precision =  0.6392307692307693\n",
            "f1 =  0.6690821256038647\n"
          ]
        }
      ]
    },
    {
      "cell_type": "markdown",
      "source": [
        "#XGBoost"
      ],
      "metadata": {
        "id": "kd13zeMAEALU"
      }
    },
    {
      "cell_type": "code",
      "source": [
        "xgb_clf = xgb.XGBClassifier(max_depth=3)\n",
        "xgb_clf.fit(X_train, y_train)"
      ],
      "metadata": {
        "colab": {
          "base_uri": "https://localhost:8080/"
        },
        "id": "gZ6eFBtJL1qO",
        "outputId": "ec92e596-b3f9-4b0c-e1d6-f63c62a56cc5"
      },
      "execution_count": null,
      "outputs": [
        {
          "output_type": "execute_result",
          "data": {
            "text/plain": [
              "XGBClassifier()"
            ]
          },
          "metadata": {},
          "execution_count": 145
        }
      ]
    },
    {
      "cell_type": "code",
      "source": [
        "xgb_preds = xgb_clf.predict(X_test)"
      ],
      "metadata": {
        "id": "hPB4VvKIRXwE"
      },
      "execution_count": null,
      "outputs": []
    },
    {
      "cell_type": "code",
      "source": [
        "rec = recall_score(y_test,xgb_preds)\n",
        "pre = precision_score(y_test,xgb_preds)\n",
        "f1 = f1_score(y_test,xgb_preds)\n",
        "print('recall = ',rec)\n",
        "print('precision = ',pre)\n",
        "print('f1 = ',f1)"
      ],
      "metadata": {
        "colab": {
          "base_uri": "https://localhost:8080/"
        },
        "id": "beejJqX0ReMA",
        "outputId": "f996ce39-d3c5-4a9c-98e1-5791c76bca52"
      },
      "execution_count": null,
      "outputs": [
        {
          "output_type": "stream",
          "name": "stdout",
          "text": [
            "recall =  0.7255067567567568\n",
            "precision =  0.630690161527166\n",
            "f1 =  0.6747839748625294\n"
          ]
        }
      ]
    },
    {
      "cell_type": "code",
      "source": [
        "plt.figure(figsize=(12,2))\n",
        "sns.heatmap(confusion_matrix(y_test,xgb_preds), annot=True,fmt='')"
      ],
      "metadata": {
        "colab": {
          "base_uri": "https://localhost:8080/",
          "height": 174
        },
        "id": "Qminnp7_RyKR",
        "outputId": "8c726025-4a02-4ee5-c090-0b5fef87cd4d"
      },
      "execution_count": null,
      "outputs": [
        {
          "output_type": "execute_result",
          "data": {
            "text/plain": [
              "<matplotlib.axes._subplots.AxesSubplot at 0x7f681097d850>"
            ]
          },
          "metadata": {},
          "execution_count": 148
        },
        {
          "output_type": "display_data",
          "data": {
            "text/plain": [
              "<Figure size 864x144 with 2 Axes>"
            ],
            "image/png": "[encoded data removed]"
          },
          "metadata": {
            "needs_background": "light"
          }
        }
      ]
    },
    {
      "cell_type": "markdown",
      "source": [
        "#LightGBM"
      ],
      "metadata": {
        "id": "im8DqPf0D-RF"
      }
    },
    {
      "cell_type": "code",
      "source": [
        "lgbm_clf = lgb.LGBMClassifier(max_depth=5)"
      ],
      "metadata": {
        "id": "72sOUO7aL4w2"
      },
      "execution_count": null,
      "outputs": []
    },
    {
      "cell_type": "code",
      "source": [
        "lgbm_clf.fit(X_train,y_train)"
      ],
      "metadata": {
        "colab": {
          "base_uri": "https://localhost:8080/"
        },
        "id": "3t36FaHjNWs9",
        "outputId": "8f903413-c16e-4000-bbf0-015503500033"
      },
      "execution_count": null,
      "outputs": [
        {
          "output_type": "execute_result",
          "data": {
            "text/plain": [
              "LGBMClassifier(max_depth=5)"
            ]
          },
          "metadata": {},
          "execution_count": 150
        }
      ]
    },
    {
      "cell_type": "code",
      "source": [
        "from google.colab import drive\n",
        "drive.mount('/content/drive')"
      ],
      "metadata": {
        "colab": {
          "base_uri": "https://localhost:8080/"
        },
        "id": "dEWkJTrYprKX",
        "outputId": "7a349da6-307b-4c8d-eee4-3fec4e08640f"
      },
      "execution_count": null,
      "outputs": [
        {
          "output_type": "stream",
          "name": "stdout",
          "text": [
            "Drive already mounted at /content/drive; to attempt to forcibly remount, call drive.mount(\"/content/drive\", force_remount=True).\n"
          ]
        }
      ]
    },
    {
      "cell_type": "code",
      "source": [
        "lgbm_preds = lgbm_clf.predict(X_test)"
      ],
      "metadata": {
        "id": "LjeTgckRNJM7"
      },
      "execution_count": null,
      "outputs": []
    },
    {
      "cell_type": "code",
      "source": [
        "rec = recall_score(y_test,lgbm_preds)\n",
        "pre = precision_score(y_test,lgbm_preds)\n",
        "f1 = f1_score(y_test,lgbm_preds)\n",
        "print('recall = ',rec)\n",
        "print('precision = ',pre)\n",
        "print('f1 = ',f1)"
      ],
      "metadata": {
        "id": "UF2dGGgVOWis",
        "colab": {
          "base_uri": "https://localhost:8080/"
        },
        "outputId": "68a9a97b-35ef-4466-dc46-98ceeebfa0b8"
      },
      "execution_count": null,
      "outputs": [
        {
          "output_type": "stream",
          "name": "stdout",
          "text": [
            "recall =  0.7132601351351351\n",
            "precision =  0.6409867172675522\n",
            "f1 =  0.6751948830701578\n"
          ]
        }
      ]
    },
    {
      "cell_type": "code",
      "source": [
        "plt.figure(figsize=(12,2))\n",
        "sns.heatmap(confusion_matrix(y_test,lgbm_preds), annot=True,fmt='')"
      ],
      "metadata": {
        "id": "AMdxn9CEOd8s",
        "colab": {
          "base_uri": "https://localhost:8080/",
          "height": 174
        },
        "outputId": "c4c52027-deef-42e1-f1cb-6021ddbbea35"
      },
      "execution_count": null,
      "outputs": [
        {
          "output_type": "execute_result",
          "data": {
            "text/plain": [
              "<matplotlib.axes._subplots.AxesSubplot at 0x7f6812ff9410>"
            ]
          },
          "metadata": {},
          "execution_count": 155
        },
        {
          "output_type": "display_data",
          "data": {
            "text/plain": [
              "<Figure size 864x144 with 2 Axes>"
            ],
            "image/png": "[encoded data removed]"
          },
          "metadata": {
            "needs_background": "light"
          }
        }
      ]
    },
    {
      "cell_type": "markdown",
      "source": [
        "# Оцениваем результаты"
      ],
      "metadata": {
        "id": "qz7xbmxxQoDk"
      }
    },
    {
      "cell_type": "markdown",
      "source": [
        "В данном блокноте мы:\n",
        "\n",
        "Выбрали Dataset\n",
        "Провели разведочный анализ\n",
        "Очистили данные и убрали выбросы\n",
        "Оцифровали категориальные признаки\n",
        "Подготовили модель и обучили в следующих библиотеках\n",
        "\n",
        "Scikit-learn Random Forest Classifier f1 score : 0.6505450941526264\n",
        "\n",
        "Scikit-learn Градиентный бустинг f1 score :  0.6782020684168655\n",
        "\n",
        "CatBoost f1 score : 0.6750801282051282\n",
        "\n",
        "XGBoost f1 score : 0.66836634634242\n",
        "\n",
        "LightGBM f1 score : 0.675922253074177\n",
        "\n",
        "В итоге самой лучшей моделью оказался Градиентный бустинг от Scikit-learn. Однако стоит отметить, что наибольшую точность(precision) показал CatBoost от Яндекса\n",
        "\n"
      ],
      "metadata": {
        "id": "2IgnhpV4Q_LR"
      }
    }
  ]
}